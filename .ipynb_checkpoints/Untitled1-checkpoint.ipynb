{
 "cells": [
  {
   "cell_type": "code",
   "execution_count": 1,
   "id": "f28f0b41",
   "metadata": {},
   "outputs": [],
   "source": [
    "import import_ipynb"
   ]
  },
  {
   "cell_type": "code",
   "execution_count": 2,
   "id": "dec42671",
   "metadata": {},
   "outputs": [
    {
     "name": "stdout",
     "output_type": "stream",
     "text": [
      "importing Jupyter notebook from command_center_1.ipynb\n"
     ]
    }
   ],
   "source": [
    "from command_center_1 import *"
   ]
  },
  {
   "cell_type": "code",
   "execution_count": 5,
   "id": "cc75c186",
   "metadata": {},
   "outputs": [
    {
     "data": {
      "text/plain": [
       "['date',\n",
       " 'malware_count',\n",
       " 'pua_count',\n",
       " 'adware_count',\n",
       " 'unknown_count',\n",
       " 'clean_count',\n",
       " 'total_count']"
      ]
     },
     "execution_count": 5,
     "metadata": {},
     "output_type": "execute_result"
    }
   ],
   "source": [
    "lab_malware_classification_list"
   ]
  },
  {
   "cell_type": "code",
   "execution_count": 6,
   "id": "b0230ee9",
   "metadata": {
    "scrolled": true
   },
   "outputs": [
    {
     "data": {
      "text/html": [
       "<div>\n",
       "<style scoped>\n",
       "    .dataframe tbody tr th:only-of-type {\n",
       "        vertical-align: middle;\n",
       "    }\n",
       "\n",
       "    .dataframe tbody tr th {\n",
       "        vertical-align: top;\n",
       "    }\n",
       "\n",
       "    .dataframe thead th {\n",
       "        text-align: right;\n",
       "    }\n",
       "</style>\n",
       "<table border=\"1\" class=\"dataframe\">\n",
       "  <thead>\n",
       "    <tr style=\"text-align: right;\">\n",
       "      <th></th>\n",
       "      <th>date</th>\n",
       "      <th>malware_count</th>\n",
       "      <th>pua_count</th>\n",
       "      <th>adware_count</th>\n",
       "      <th>unknown_count</th>\n",
       "      <th>clean_count</th>\n",
       "      <th>total_count</th>\n",
       "    </tr>\n",
       "  </thead>\n",
       "  <tbody>\n",
       "    <tr>\n",
       "      <th>0</th>\n",
       "      <td>2023-05-20</td>\n",
       "      <td>2078</td>\n",
       "      <td>1032</td>\n",
       "      <td>893</td>\n",
       "      <td>28802</td>\n",
       "      <td>156</td>\n",
       "      <td>280838</td>\n",
       "    </tr>\n",
       "    <tr>\n",
       "      <th>1</th>\n",
       "      <td>2023-05-24</td>\n",
       "      <td>2112</td>\n",
       "      <td>932</td>\n",
       "      <td>763</td>\n",
       "      <td>24869</td>\n",
       "      <td>182</td>\n",
       "      <td>296025</td>\n",
       "    </tr>\n",
       "    <tr>\n",
       "      <th>2</th>\n",
       "      <td>2023-05-25</td>\n",
       "      <td>1934</td>\n",
       "      <td>934</td>\n",
       "      <td>837</td>\n",
       "      <td>24604</td>\n",
       "      <td>176</td>\n",
       "      <td>280205</td>\n",
       "    </tr>\n",
       "    <tr>\n",
       "      <th>3</th>\n",
       "      <td>2023-05-26</td>\n",
       "      <td>1834</td>\n",
       "      <td>1134</td>\n",
       "      <td>394</td>\n",
       "      <td>22589</td>\n",
       "      <td>103</td>\n",
       "      <td>290985</td>\n",
       "    </tr>\n",
       "    <tr>\n",
       "      <th>4</th>\n",
       "      <td>2023-05-27</td>\n",
       "      <td>2232</td>\n",
       "      <td>833</td>\n",
       "      <td>563</td>\n",
       "      <td>22656</td>\n",
       "      <td>190</td>\n",
       "      <td>286259</td>\n",
       "    </tr>\n",
       "  </tbody>\n",
       "</table>\n",
       "</div>"
      ],
      "text/plain": [
       "         date  malware_count  pua_count  adware_count  unknown_count  \\\n",
       "0  2023-05-20           2078       1032           893          28802   \n",
       "1  2023-05-24           2112        932           763          24869   \n",
       "2  2023-05-25           1934        934           837          24604   \n",
       "3  2023-05-26           1834       1134           394          22589   \n",
       "4  2023-05-27           2232        833           563          22656   \n",
       "\n",
       "   clean_count  total_count  \n",
       "0          156       280838  \n",
       "1          182       296025  \n",
       "2          176       280205  \n",
       "3          103       290985  \n",
       "4          190       286259  "
      ]
     },
     "execution_count": 6,
     "metadata": {},
     "output_type": "execute_result"
    }
   ],
   "source": [
    "lab_malware_classification"
   ]
  },
  {
   "cell_type": "code",
   "execution_count": 7,
   "id": "5731ebc7",
   "metadata": {},
   "outputs": [],
   "source": [
    "lab_malware_classification['date']=pd.to_datetime(lab_malware_classification['date'])"
   ]
  },
  {
   "cell_type": "code",
   "execution_count": 14,
   "id": "34b24198",
   "metadata": {},
   "outputs": [],
   "source": [
    "lab_malware_classification.set_index('date',inplace=True)"
   ]
  },
  {
   "cell_type": "code",
   "execution_count": 15,
   "id": "48528dfa",
   "metadata": {},
   "outputs": [
    {
     "data": {
      "text/html": [
       "<div>\n",
       "<style scoped>\n",
       "    .dataframe tbody tr th:only-of-type {\n",
       "        vertical-align: middle;\n",
       "    }\n",
       "\n",
       "    .dataframe tbody tr th {\n",
       "        vertical-align: top;\n",
       "    }\n",
       "\n",
       "    .dataframe thead th {\n",
       "        text-align: right;\n",
       "    }\n",
       "</style>\n",
       "<table border=\"1\" class=\"dataframe\">\n",
       "  <thead>\n",
       "    <tr style=\"text-align: right;\">\n",
       "      <th></th>\n",
       "      <th>malware_count</th>\n",
       "      <th>pua_count</th>\n",
       "      <th>adware_count</th>\n",
       "      <th>unknown_count</th>\n",
       "      <th>clean_count</th>\n",
       "      <th>total_count</th>\n",
       "    </tr>\n",
       "    <tr>\n",
       "      <th>date</th>\n",
       "      <th></th>\n",
       "      <th></th>\n",
       "      <th></th>\n",
       "      <th></th>\n",
       "      <th></th>\n",
       "      <th></th>\n",
       "    </tr>\n",
       "  </thead>\n",
       "  <tbody>\n",
       "    <tr>\n",
       "      <th>2023-05-20</th>\n",
       "      <td>2078</td>\n",
       "      <td>1032</td>\n",
       "      <td>893</td>\n",
       "      <td>28802</td>\n",
       "      <td>156</td>\n",
       "      <td>280838</td>\n",
       "    </tr>\n",
       "    <tr>\n",
       "      <th>2023-05-24</th>\n",
       "      <td>2112</td>\n",
       "      <td>932</td>\n",
       "      <td>763</td>\n",
       "      <td>24869</td>\n",
       "      <td>182</td>\n",
       "      <td>296025</td>\n",
       "    </tr>\n",
       "    <tr>\n",
       "      <th>2023-05-25</th>\n",
       "      <td>1934</td>\n",
       "      <td>934</td>\n",
       "      <td>837</td>\n",
       "      <td>24604</td>\n",
       "      <td>176</td>\n",
       "      <td>280205</td>\n",
       "    </tr>\n",
       "    <tr>\n",
       "      <th>2023-05-26</th>\n",
       "      <td>1834</td>\n",
       "      <td>1134</td>\n",
       "      <td>394</td>\n",
       "      <td>22589</td>\n",
       "      <td>103</td>\n",
       "      <td>290985</td>\n",
       "    </tr>\n",
       "    <tr>\n",
       "      <th>2023-05-27</th>\n",
       "      <td>2232</td>\n",
       "      <td>833</td>\n",
       "      <td>563</td>\n",
       "      <td>22656</td>\n",
       "      <td>190</td>\n",
       "      <td>286259</td>\n",
       "    </tr>\n",
       "  </tbody>\n",
       "</table>\n",
       "</div>"
      ],
      "text/plain": [
       "            malware_count  pua_count  adware_count  unknown_count  \\\n",
       "date                                                                \n",
       "2023-05-20           2078       1032           893          28802   \n",
       "2023-05-24           2112        932           763          24869   \n",
       "2023-05-25           1934        934           837          24604   \n",
       "2023-05-26           1834       1134           394          22589   \n",
       "2023-05-27           2232        833           563          22656   \n",
       "\n",
       "            clean_count  total_count  \n",
       "date                                  \n",
       "2023-05-20          156       280838  \n",
       "2023-05-24          182       296025  \n",
       "2023-05-25          176       280205  \n",
       "2023-05-26          103       290985  \n",
       "2023-05-27          190       286259  "
      ]
     },
     "execution_count": 15,
     "metadata": {},
     "output_type": "execute_result"
    }
   ],
   "source": [
    "lab_malware_classification"
   ]
  },
  {
   "cell_type": "code",
   "execution_count": 22,
   "id": "64836428",
   "metadata": {},
   "outputs": [],
   "source": [
    "#getting the data\n",
    "files_by_classification=lab_malware_classification.loc[\"2023-05-20\"].to_list()"
   ]
  },
  {
   "cell_type": "code",
   "execution_count": 25,
   "id": "841521ef",
   "metadata": {},
   "outputs": [],
   "source": [
    "files_by_classification_list=lab_malware_classification.columns.to_list()"
   ]
  },
  {
   "cell_type": "code",
   "execution_count": 26,
   "id": "e9ec94d9",
   "metadata": {},
   "outputs": [],
   "source": [
    "files_by_classification_dict = dict(zip(files_by_classification,files_by_classification_list))"
   ]
  },
  {
   "cell_type": "code",
   "execution_count": 27,
   "id": "4ea9e49e",
   "metadata": {},
   "outputs": [
    {
     "data": {
      "text/plain": [
       "{2078: 'malware_count',\n",
       " 1032: 'pua_count',\n",
       " 893: 'adware_count',\n",
       " 28802: 'unknown_count',\n",
       " 156: 'clean_count',\n",
       " 280838: 'total_count'}"
      ]
     },
     "execution_count": 27,
     "metadata": {},
     "output_type": "execute_result"
    }
   ],
   "source": [
    "files_by_classification_dict"
   ]
  },
  {
   "cell_type": "code",
   "execution_count": 3,
   "id": "a14d36a7",
   "metadata": {},
   "outputs": [
    {
     "ename": "SyntaxError",
     "evalue": "import * only allowed at module level (290434673.py, line 1)",
     "output_type": "error",
     "traceback": [
      "\u001b[0;36m  Cell \u001b[0;32mIn[3], line 1\u001b[0;36m\u001b[0m\n\u001b[0;31m    def fbc (dt):\u001b[0m\n\u001b[0m    ^\u001b[0m\n\u001b[0;31mSyntaxError\u001b[0m\u001b[0;31m:\u001b[0m import * only allowed at module level\n"
     ]
    }
   ],
   "source": [
    "def fbc (dt):\n",
    "    import import_ipynb    \n",
    "    from command_center_1 import *\n",
    "    #converting date to date time\n",
    "    dt=str(dt)\n",
    "    lab_malware_classification['date']=pd.to_datetime(lab_malware_classification['date'])\n",
    "    \n",
    "    \n",
    "    #setting date as Index \n",
    "    lab_malware_classification.set_index('date',inplace=True)\n",
    "    \n",
    "    #passing the value\n",
    "    files_by_classification=lab_malware_classification.loc[dt].to_list()\n",
    "    \n",
    "    #getting the columns\n",
    "    files_by_classification_list=lab_malware_classification.columns.to_list()\n",
    "    \n",
    "    #converting to dict\n",
    "    files_by_classification_dict = dict(zip(files_by_classification,files_by_classification_list))\n",
    "    \n",
    "    print(files_by_classification_dict)\n",
    "    "
   ]
  },
  {
   "cell_type": "code",
   "execution_count": 1,
   "id": "8103829d",
   "metadata": {},
   "outputs": [],
   "source": [
    "def fbc1(dt):\n",
    "    import import_ipynb\n",
    "    import pandas as pd\n",
    "    import command_center_1\n",
    "    while True:\n",
    "        try:\n",
    "                    \n",
    "        \n",
    "    #converting date to date time\n",
    "            dt=str(dt)\n",
    "            command_center_1.lab_malware_classification['date']=pd.to_datetime(command_center_1.lab_malware_classification['date'])\n",
    "    \n",
    "    \n",
    "    #setting date as Index \n",
    "            command_center_1.lab_malware_classification.set_index('date',inplace=True)\n",
    "    \n",
    "    #passing the value\n",
    "            files_by_classification = command_center_1.lab_malware_classification.loc[dt].to_list()\n",
    "    \n",
    "    #getting the columns\n",
    "            files_by_classification_list = command_center_1.lab_malware_classification.columns.to_list()\n",
    "    \n",
    "    #converting to dict\n",
    "            files_by_classification_dict = dict (zip ( files_by_classification_list , files_by_classification ) )\n",
    "            \n",
    "        \n",
    "            return files_by_classification_dict\n",
    "           \n",
    "            \n",
    "            break\n",
    "            \n",
    "        except (KeyError,NameError,KeyboardInterrupt):\n",
    "            pass\n",
    "        "
   ]
  },
  {
   "cell_type": "code",
   "execution_count": null,
   "id": "c2cc8f62",
   "metadata": {},
   "outputs": [],
   "source": []
  },
  {
   "cell_type": "code",
   "execution_count": 2,
   "id": "64f227c1",
   "metadata": {
    "scrolled": true
   },
   "outputs": [
    {
     "name": "stdout",
     "output_type": "stream",
     "text": [
      "importing Jupyter notebook from command_center_1.ipynb\n"
     ]
    },
    {
     "data": {
      "text/plain": [
       "{'malware_count': 2078,\n",
       " 'pua_count': 1032,\n",
       " 'adware_count': 893,\n",
       " 'unknown_count': 28802,\n",
       " 'clean_count': 156,\n",
       " 'total_count': 280838}"
      ]
     },
     "execution_count": 2,
     "metadata": {},
     "output_type": "execute_result"
    }
   ],
   "source": [
    "fbc1('2023-05-20')"
   ]
  },
  {
   "cell_type": "markdown",
   "id": "e766bb28",
   "metadata": {},
   "source": [
    "# OS wise end points protected."
   ]
  },
  {
   "cell_type": "code",
   "execution_count": 3,
   "id": "c9708d74",
   "metadata": {},
   "outputs": [
    {
     "name": "stdout",
     "output_type": "stream",
     "text": [
      "importing Jupyter notebook from command_center_1.ipynb\n"
     ]
    }
   ],
   "source": [
    "import import_ipynb\n",
    "from command_center_1 import *"
   ]
  },
  {
   "cell_type": "code",
   "execution_count": 4,
   "id": "8640d68f",
   "metadata": {},
   "outputs": [],
   "source": [
    "import pandas as pd"
   ]
  },
  {
   "cell_type": "code",
   "execution_count": 5,
   "id": "315a7d12",
   "metadata": {},
   "outputs": [
    {
     "data": {
      "text/html": [
       "<div>\n",
       "<style scoped>\n",
       "    .dataframe tbody tr th:only-of-type {\n",
       "        vertical-align: middle;\n",
       "    }\n",
       "\n",
       "    .dataframe tbody tr th {\n",
       "        vertical-align: top;\n",
       "    }\n",
       "\n",
       "    .dataframe thead th {\n",
       "        text-align: right;\n",
       "    }\n",
       "</style>\n",
       "<table border=\"1\" class=\"dataframe\">\n",
       "  <thead>\n",
       "    <tr style=\"text-align: right;\">\n",
       "      <th></th>\n",
       "      <th>date</th>\n",
       "      <th>platform_name</th>\n",
       "      <th>ngav_detection_count</th>\n",
       "      <th>arw_detection_count</th>\n",
       "      <th>network_detection_count</th>\n",
       "      <th>engine_detection_count</th>\n",
       "      <th>protected_endpoint_count</th>\n",
       "    </tr>\n",
       "  </thead>\n",
       "  <tbody>\n",
       "    <tr>\n",
       "      <th>0</th>\n",
       "      <td>2023-04-23</td>\n",
       "      <td>Windows 8.1 64 bit</td>\n",
       "      <td>NaN</td>\n",
       "      <td>NaN</td>\n",
       "      <td>NaN</td>\n",
       "      <td>NaN</td>\n",
       "      <td>NaN</td>\n",
       "    </tr>\n",
       "    <tr>\n",
       "      <th>1</th>\n",
       "      <td>2023-04-23</td>\n",
       "      <td>Windows 10 64 bit</td>\n",
       "      <td>NaN</td>\n",
       "      <td>NaN</td>\n",
       "      <td>NaN</td>\n",
       "      <td>NaN</td>\n",
       "      <td>NaN</td>\n",
       "    </tr>\n",
       "    <tr>\n",
       "      <th>2</th>\n",
       "      <td>2023-04-23</td>\n",
       "      <td>Windows 10 64 bit</td>\n",
       "      <td>NaN</td>\n",
       "      <td>NaN</td>\n",
       "      <td>NaN</td>\n",
       "      <td>NaN</td>\n",
       "      <td>NaN</td>\n",
       "    </tr>\n",
       "    <tr>\n",
       "      <th>3</th>\n",
       "      <td>2023-04-23</td>\n",
       "      <td>Windows 8.1</td>\n",
       "      <td>NaN</td>\n",
       "      <td>NaN</td>\n",
       "      <td>NaN</td>\n",
       "      <td>NaN</td>\n",
       "      <td>NaN</td>\n",
       "    </tr>\n",
       "    <tr>\n",
       "      <th>4</th>\n",
       "      <td>2023-04-23</td>\n",
       "      <td>Windows 8.1 64 bit</td>\n",
       "      <td>NaN</td>\n",
       "      <td>NaN</td>\n",
       "      <td>NaN</td>\n",
       "      <td>NaN</td>\n",
       "      <td>NaN</td>\n",
       "    </tr>\n",
       "    <tr>\n",
       "      <th>...</th>\n",
       "      <td>...</td>\n",
       "      <td>...</td>\n",
       "      <td>...</td>\n",
       "      <td>...</td>\n",
       "      <td>...</td>\n",
       "      <td>...</td>\n",
       "      <td>...</td>\n",
       "    </tr>\n",
       "    <tr>\n",
       "      <th>3664</th>\n",
       "      <td>2023-04-23</td>\n",
       "      <td>Windows 10 64 bit</td>\n",
       "      <td>NaN</td>\n",
       "      <td>NaN</td>\n",
       "      <td>NaN</td>\n",
       "      <td>NaN</td>\n",
       "      <td>NaN</td>\n",
       "    </tr>\n",
       "    <tr>\n",
       "      <th>3665</th>\n",
       "      <td>2023-04-23</td>\n",
       "      <td>Windows 10 64 bit</td>\n",
       "      <td>NaN</td>\n",
       "      <td>NaN</td>\n",
       "      <td>NaN</td>\n",
       "      <td>NaN</td>\n",
       "      <td>NaN</td>\n",
       "    </tr>\n",
       "    <tr>\n",
       "      <th>3666</th>\n",
       "      <td>2023-04-23</td>\n",
       "      <td>Windows 10 64 bit</td>\n",
       "      <td>NaN</td>\n",
       "      <td>NaN</td>\n",
       "      <td>NaN</td>\n",
       "      <td>NaN</td>\n",
       "      <td>NaN</td>\n",
       "    </tr>\n",
       "    <tr>\n",
       "      <th>3667</th>\n",
       "      <td>2023-04-23</td>\n",
       "      <td>Windows 10 64 bit</td>\n",
       "      <td>NaN</td>\n",
       "      <td>NaN</td>\n",
       "      <td>NaN</td>\n",
       "      <td>NaN</td>\n",
       "      <td>NaN</td>\n",
       "    </tr>\n",
       "    <tr>\n",
       "      <th>3668</th>\n",
       "      <td>2023-04-23</td>\n",
       "      <td>Windows 7 64 bit</td>\n",
       "      <td>NaN</td>\n",
       "      <td>NaN</td>\n",
       "      <td>NaN</td>\n",
       "      <td>NaN</td>\n",
       "      <td>NaN</td>\n",
       "    </tr>\n",
       "  </tbody>\n",
       "</table>\n",
       "<p>3669 rows × 7 columns</p>\n",
       "</div>"
      ],
      "text/plain": [
       "            date       platform_name  ngav_detection_count  \\\n",
       "0     2023-04-23  Windows 8.1 64 bit                   NaN   \n",
       "1     2023-04-23   Windows 10 64 bit                   NaN   \n",
       "2     2023-04-23   Windows 10 64 bit                   NaN   \n",
       "3     2023-04-23         Windows 8.1                   NaN   \n",
       "4     2023-04-23  Windows 8.1 64 bit                   NaN   \n",
       "...          ...                 ...                   ...   \n",
       "3664  2023-04-23   Windows 10 64 bit                   NaN   \n",
       "3665  2023-04-23   Windows 10 64 bit                   NaN   \n",
       "3666  2023-04-23   Windows 10 64 bit                   NaN   \n",
       "3667  2023-04-23   Windows 10 64 bit                   NaN   \n",
       "3668  2023-04-23    Windows 7 64 bit                   NaN   \n",
       "\n",
       "      arw_detection_count  network_detection_count  engine_detection_count  \\\n",
       "0                     NaN                      NaN                     NaN   \n",
       "1                     NaN                      NaN                     NaN   \n",
       "2                     NaN                      NaN                     NaN   \n",
       "3                     NaN                      NaN                     NaN   \n",
       "4                     NaN                      NaN                     NaN   \n",
       "...                   ...                      ...                     ...   \n",
       "3664                  NaN                      NaN                     NaN   \n",
       "3665                  NaN                      NaN                     NaN   \n",
       "3666                  NaN                      NaN                     NaN   \n",
       "3667                  NaN                      NaN                     NaN   \n",
       "3668                  NaN                      NaN                     NaN   \n",
       "\n",
       "      protected_endpoint_count  \n",
       "0                          NaN  \n",
       "1                          NaN  \n",
       "2                          NaN  \n",
       "3                          NaN  \n",
       "4                          NaN  \n",
       "...                        ...  \n",
       "3664                       NaN  \n",
       "3665                       NaN  \n",
       "3666                       NaN  \n",
       "3667                       NaN  \n",
       "3668                       NaN  \n",
       "\n",
       "[3669 rows x 7 columns]"
      ]
     },
     "execution_count": 5,
     "metadata": {},
     "output_type": "execute_result"
    }
   ],
   "source": [
    "platform_detection_matrix"
   ]
  },
  {
   "cell_type": "code",
   "execution_count": 15,
   "id": "e6c039a6",
   "metadata": {},
   "outputs": [],
   "source": [
    "df = platform_detection_matrix[['date','platform_name']].copy()"
   ]
  },
  {
   "cell_type": "code",
   "execution_count": 16,
   "id": "60132756",
   "metadata": {},
   "outputs": [
    {
     "data": {
      "text/html": [
       "<div>\n",
       "<style scoped>\n",
       "    .dataframe tbody tr th:only-of-type {\n",
       "        vertical-align: middle;\n",
       "    }\n",
       "\n",
       "    .dataframe tbody tr th {\n",
       "        vertical-align: top;\n",
       "    }\n",
       "\n",
       "    .dataframe thead th {\n",
       "        text-align: right;\n",
       "    }\n",
       "</style>\n",
       "<table border=\"1\" class=\"dataframe\">\n",
       "  <thead>\n",
       "    <tr style=\"text-align: right;\">\n",
       "      <th></th>\n",
       "      <th>date</th>\n",
       "      <th>platform_name</th>\n",
       "    </tr>\n",
       "  </thead>\n",
       "  <tbody>\n",
       "    <tr>\n",
       "      <th>0</th>\n",
       "      <td>2023-04-23</td>\n",
       "      <td>Windows 8.1 64 bit</td>\n",
       "    </tr>\n",
       "    <tr>\n",
       "      <th>1</th>\n",
       "      <td>2023-04-23</td>\n",
       "      <td>Windows 10 64 bit</td>\n",
       "    </tr>\n",
       "    <tr>\n",
       "      <th>2</th>\n",
       "      <td>2023-04-23</td>\n",
       "      <td>Windows 10 64 bit</td>\n",
       "    </tr>\n",
       "    <tr>\n",
       "      <th>3</th>\n",
       "      <td>2023-04-23</td>\n",
       "      <td>Windows 8.1</td>\n",
       "    </tr>\n",
       "    <tr>\n",
       "      <th>4</th>\n",
       "      <td>2023-04-23</td>\n",
       "      <td>Windows 8.1 64 bit</td>\n",
       "    </tr>\n",
       "    <tr>\n",
       "      <th>...</th>\n",
       "      <td>...</td>\n",
       "      <td>...</td>\n",
       "    </tr>\n",
       "    <tr>\n",
       "      <th>3664</th>\n",
       "      <td>2023-04-23</td>\n",
       "      <td>Windows 10 64 bit</td>\n",
       "    </tr>\n",
       "    <tr>\n",
       "      <th>3665</th>\n",
       "      <td>2023-04-23</td>\n",
       "      <td>Windows 10 64 bit</td>\n",
       "    </tr>\n",
       "    <tr>\n",
       "      <th>3666</th>\n",
       "      <td>2023-04-23</td>\n",
       "      <td>Windows 10 64 bit</td>\n",
       "    </tr>\n",
       "    <tr>\n",
       "      <th>3667</th>\n",
       "      <td>2023-04-23</td>\n",
       "      <td>Windows 10 64 bit</td>\n",
       "    </tr>\n",
       "    <tr>\n",
       "      <th>3668</th>\n",
       "      <td>2023-04-23</td>\n",
       "      <td>Windows 7 64 bit</td>\n",
       "    </tr>\n",
       "  </tbody>\n",
       "</table>\n",
       "<p>3669 rows × 2 columns</p>\n",
       "</div>"
      ],
      "text/plain": [
       "            date       platform_name\n",
       "0     2023-04-23  Windows 8.1 64 bit\n",
       "1     2023-04-23   Windows 10 64 bit\n",
       "2     2023-04-23   Windows 10 64 bit\n",
       "3     2023-04-23         Windows 8.1\n",
       "4     2023-04-23  Windows 8.1 64 bit\n",
       "...          ...                 ...\n",
       "3664  2023-04-23   Windows 10 64 bit\n",
       "3665  2023-04-23   Windows 10 64 bit\n",
       "3666  2023-04-23   Windows 10 64 bit\n",
       "3667  2023-04-23   Windows 10 64 bit\n",
       "3668  2023-04-23    Windows 7 64 bit\n",
       "\n",
       "[3669 rows x 2 columns]"
      ]
     },
     "execution_count": 16,
     "metadata": {},
     "output_type": "execute_result"
    }
   ],
   "source": [
    "df"
   ]
  },
  {
   "cell_type": "code",
   "execution_count": 12,
   "id": "c73e3d89",
   "metadata": {},
   "outputs": [],
   "source": [
    "#df['date']=pd.to_datetime(df['date'])"
   ]
  },
  {
   "cell_type": "code",
   "execution_count": 13,
   "id": "8ebb173d",
   "metadata": {},
   "outputs": [],
   "source": [
    "#df.set_index('date',inplace=True)"
   ]
  },
  {
   "cell_type": "code",
   "execution_count": 17,
   "id": "03281bd0",
   "metadata": {},
   "outputs": [],
   "source": [
    "del df['date']"
   ]
  },
  {
   "cell_type": "code",
   "execution_count": 18,
   "id": "9b137604",
   "metadata": {},
   "outputs": [
    {
     "data": {
      "text/html": [
       "<div>\n",
       "<style scoped>\n",
       "    .dataframe tbody tr th:only-of-type {\n",
       "        vertical-align: middle;\n",
       "    }\n",
       "\n",
       "    .dataframe tbody tr th {\n",
       "        vertical-align: top;\n",
       "    }\n",
       "\n",
       "    .dataframe thead th {\n",
       "        text-align: right;\n",
       "    }\n",
       "</style>\n",
       "<table border=\"1\" class=\"dataframe\">\n",
       "  <thead>\n",
       "    <tr style=\"text-align: right;\">\n",
       "      <th></th>\n",
       "      <th>platform_name</th>\n",
       "    </tr>\n",
       "  </thead>\n",
       "  <tbody>\n",
       "    <tr>\n",
       "      <th>0</th>\n",
       "      <td>Windows 8.1 64 bit</td>\n",
       "    </tr>\n",
       "    <tr>\n",
       "      <th>1</th>\n",
       "      <td>Windows 10 64 bit</td>\n",
       "    </tr>\n",
       "    <tr>\n",
       "      <th>2</th>\n",
       "      <td>Windows 10 64 bit</td>\n",
       "    </tr>\n",
       "    <tr>\n",
       "      <th>3</th>\n",
       "      <td>Windows 8.1</td>\n",
       "    </tr>\n",
       "    <tr>\n",
       "      <th>4</th>\n",
       "      <td>Windows 8.1 64 bit</td>\n",
       "    </tr>\n",
       "    <tr>\n",
       "      <th>...</th>\n",
       "      <td>...</td>\n",
       "    </tr>\n",
       "    <tr>\n",
       "      <th>3664</th>\n",
       "      <td>Windows 10 64 bit</td>\n",
       "    </tr>\n",
       "    <tr>\n",
       "      <th>3665</th>\n",
       "      <td>Windows 10 64 bit</td>\n",
       "    </tr>\n",
       "    <tr>\n",
       "      <th>3666</th>\n",
       "      <td>Windows 10 64 bit</td>\n",
       "    </tr>\n",
       "    <tr>\n",
       "      <th>3667</th>\n",
       "      <td>Windows 10 64 bit</td>\n",
       "    </tr>\n",
       "    <tr>\n",
       "      <th>3668</th>\n",
       "      <td>Windows 7 64 bit</td>\n",
       "    </tr>\n",
       "  </tbody>\n",
       "</table>\n",
       "<p>3669 rows × 1 columns</p>\n",
       "</div>"
      ],
      "text/plain": [
       "           platform_name\n",
       "0     Windows 8.1 64 bit\n",
       "1      Windows 10 64 bit\n",
       "2      Windows 10 64 bit\n",
       "3            Windows 8.1\n",
       "4     Windows 8.1 64 bit\n",
       "...                  ...\n",
       "3664   Windows 10 64 bit\n",
       "3665   Windows 10 64 bit\n",
       "3666   Windows 10 64 bit\n",
       "3667   Windows 10 64 bit\n",
       "3668    Windows 7 64 bit\n",
       "\n",
       "[3669 rows x 1 columns]"
      ]
     },
     "execution_count": 18,
     "metadata": {},
     "output_type": "execute_result"
    }
   ],
   "source": [
    "df"
   ]
  },
  {
   "cell_type": "code",
   "execution_count": 83,
   "id": "d0d2b350",
   "metadata": {},
   "outputs": [
    {
     "data": {
      "text/plain": [
       "platform_name    18\n",
       "dtype: int64"
      ]
     },
     "execution_count": 83,
     "metadata": {},
     "output_type": "execute_result"
    }
   ],
   "source": [
    "df.nunique()"
   ]
  },
  {
   "cell_type": "code",
   "execution_count": 107,
   "id": "57786443",
   "metadata": {},
   "outputs": [
    {
     "data": {
      "text/html": [
       "<div>\n",
       "<style scoped>\n",
       "    .dataframe tbody tr th:only-of-type {\n",
       "        vertical-align: middle;\n",
       "    }\n",
       "\n",
       "    .dataframe tbody tr th {\n",
       "        vertical-align: top;\n",
       "    }\n",
       "\n",
       "    .dataframe thead th {\n",
       "        text-align: right;\n",
       "    }\n",
       "</style>\n",
       "<table border=\"1\" class=\"dataframe\">\n",
       "  <thead>\n",
       "    <tr style=\"text-align: right;\">\n",
       "      <th></th>\n",
       "      <th>platform_name</th>\n",
       "    </tr>\n",
       "  </thead>\n",
       "  <tbody>\n",
       "    <tr>\n",
       "      <th>count</th>\n",
       "      <td>3669</td>\n",
       "    </tr>\n",
       "    <tr>\n",
       "      <th>unique</th>\n",
       "      <td>18</td>\n",
       "    </tr>\n",
       "    <tr>\n",
       "      <th>top</th>\n",
       "      <td>Windows 10 64 bit</td>\n",
       "    </tr>\n",
       "    <tr>\n",
       "      <th>freq</th>\n",
       "      <td>1545</td>\n",
       "    </tr>\n",
       "  </tbody>\n",
       "</table>\n",
       "</div>"
      ],
      "text/plain": [
       "            platform_name\n",
       "count                3669\n",
       "unique                 18\n",
       "top     Windows 10 64 bit\n",
       "freq                 1545"
      ]
     },
     "execution_count": 107,
     "metadata": {},
     "output_type": "execute_result"
    }
   ],
   "source": [
    "df.describe()"
   ]
  },
  {
   "cell_type": "code",
   "execution_count": 112,
   "id": "50a14e9c",
   "metadata": {},
   "outputs": [
    {
     "data": {
      "text/plain": [
       "<bound method NDFrame._add_numeric_operations.<locals>.all of            platform_name\n",
       "0     Windows 8.1 64 bit\n",
       "1      Windows 10 64 bit\n",
       "2      Windows 10 64 bit\n",
       "3            Windows 8.1\n",
       "4     Windows 8.1 64 bit\n",
       "...                  ...\n",
       "3664   Windows 10 64 bit\n",
       "3665   Windows 10 64 bit\n",
       "3666   Windows 10 64 bit\n",
       "3667   Windows 10 64 bit\n",
       "3668    Windows 7 64 bit\n",
       "\n",
       "[3669 rows x 1 columns]>"
      ]
     },
     "execution_count": 112,
     "metadata": {},
     "output_type": "execute_result"
    }
   ],
   "source": []
  },
  {
   "cell_type": "code",
   "execution_count": 24,
   "id": "9eb1b022",
   "metadata": {},
   "outputs": [
    {
     "data": {
      "text/html": [
       "<div>\n",
       "<style scoped>\n",
       "    .dataframe tbody tr th:only-of-type {\n",
       "        vertical-align: middle;\n",
       "    }\n",
       "\n",
       "    .dataframe tbody tr th {\n",
       "        vertical-align: top;\n",
       "    }\n",
       "\n",
       "    .dataframe thead th {\n",
       "        text-align: right;\n",
       "    }\n",
       "</style>\n",
       "<table border=\"1\" class=\"dataframe\">\n",
       "  <thead>\n",
       "    <tr style=\"text-align: right;\">\n",
       "      <th></th>\n",
       "    </tr>\n",
       "    <tr>\n",
       "      <th>platform_name</th>\n",
       "    </tr>\n",
       "  </thead>\n",
       "  <tbody>\n",
       "    <tr>\n",
       "      <th>Windows 10</th>\n",
       "    </tr>\n",
       "    <tr>\n",
       "      <th>Windows 10 64 bit</th>\n",
       "    </tr>\n",
       "    <tr>\n",
       "      <th>Windows 11 64 bit</th>\n",
       "    </tr>\n",
       "    <tr>\n",
       "      <th>Windows 2003 Enterprise Edition</th>\n",
       "    </tr>\n",
       "    <tr>\n",
       "      <th>Windows 2003 Standard Edition</th>\n",
       "    </tr>\n",
       "    <tr>\n",
       "      <th>Windows 7</th>\n",
       "    </tr>\n",
       "    <tr>\n",
       "      <th>Windows 7 64 bit</th>\n",
       "    </tr>\n",
       "    <tr>\n",
       "      <th>Windows 8</th>\n",
       "    </tr>\n",
       "    <tr>\n",
       "      <th>Windows 8 64 bit</th>\n",
       "    </tr>\n",
       "    <tr>\n",
       "      <th>Windows 8.1</th>\n",
       "    </tr>\n",
       "    <tr>\n",
       "      <th>Windows 8.1 64 bit</th>\n",
       "    </tr>\n",
       "    <tr>\n",
       "      <th>Windows Server 2008 R2 64 bit</th>\n",
       "    </tr>\n",
       "    <tr>\n",
       "      <th>Windows Server 2012 64 bit</th>\n",
       "    </tr>\n",
       "    <tr>\n",
       "      <th>Windows Server 2012 R2 64 bit</th>\n",
       "    </tr>\n",
       "    <tr>\n",
       "      <th>Windows Server 2016 64 bit</th>\n",
       "    </tr>\n",
       "    <tr>\n",
       "      <th>Windows Server 2019 64 bit</th>\n",
       "    </tr>\n",
       "    <tr>\n",
       "      <th>Windows Server 2022 64 bit</th>\n",
       "    </tr>\n",
       "    <tr>\n",
       "      <th>Windows XP Professional</th>\n",
       "    </tr>\n",
       "  </tbody>\n",
       "</table>\n",
       "</div>"
      ],
      "text/plain": [
       "Empty DataFrame\n",
       "Columns: []\n",
       "Index: [Windows 10, Windows 10 64 bit, Windows 11 64 bit, Windows 2003 Enterprise Edition, Windows 2003 Standard Edition, Windows 7, Windows 7 64 bit, Windows 8, Windows 8 64 bit, Windows 8.1, Windows 8.1 64 bit, Windows Server 2008 R2 64 bit, Windows Server 2012 64 bit, Windows Server 2012 R2 64 bit, Windows Server 2016 64 bit, Windows Server 2019 64 bit, Windows Server 2022 64 bit, Windows XP Professional]"
      ]
     },
     "execution_count": 24,
     "metadata": {},
     "output_type": "execute_result"
    }
   ],
   "source": [
    "df.groupby('platform_name').all()"
   ]
  },
  {
   "cell_type": "code",
   "execution_count": 26,
   "id": "5b208d25",
   "metadata": {},
   "outputs": [],
   "source": [
    "df1 = df.value_counts()"
   ]
  },
  {
   "cell_type": "code",
   "execution_count": 27,
   "id": "c836cee4",
   "metadata": {},
   "outputs": [
    {
     "data": {
      "text/plain": [
       "platform_name                  \n",
       "Windows 10 64 bit                  1545\n",
       "Windows 7 64 bit                    640\n",
       "Windows 7                           489\n",
       "Windows 8.1 64 bit                  267\n",
       "Windows Server 2016 64 bit          165\n",
       "Windows Server 2012 R2 64 bit       122\n",
       "Windows 10                           78\n",
       "Windows Server 2008 R2 64 bit        72\n",
       "Windows 8 64 bit                     68\n",
       "Windows 8.1                          58\n",
       "Windows 11 64 bit                    43\n",
       "Windows XP Professional              37\n",
       "Windows Server 2012 64 bit           32\n",
       "Windows 8                            28\n",
       "Windows 2003 Enterprise Edition      12\n",
       "Windows Server 2019 64 bit            8\n",
       "Windows 2003 Standard Edition         4\n",
       "Windows Server 2022 64 bit            1\n",
       "dtype: int64"
      ]
     },
     "execution_count": 27,
     "metadata": {},
     "output_type": "execute_result"
    }
   ],
   "source": [
    "df1"
   ]
  },
  {
   "cell_type": "code",
   "execution_count": 29,
   "id": "f7b28705",
   "metadata": {},
   "outputs": [],
   "source": [
    "df1 = pd.DataFrame(df1)"
   ]
  },
  {
   "cell_type": "markdown",
   "id": "c4d774fe",
   "metadata": {},
   "source": [
    "# "
   ]
  },
  {
   "cell_type": "code",
   "execution_count": 30,
   "id": "5819cb01",
   "metadata": {},
   "outputs": [
    {
     "data": {
      "text/html": [
       "<div>\n",
       "<style scoped>\n",
       "    .dataframe tbody tr th:only-of-type {\n",
       "        vertical-align: middle;\n",
       "    }\n",
       "\n",
       "    .dataframe tbody tr th {\n",
       "        vertical-align: top;\n",
       "    }\n",
       "\n",
       "    .dataframe thead th {\n",
       "        text-align: right;\n",
       "    }\n",
       "</style>\n",
       "<table border=\"1\" class=\"dataframe\">\n",
       "  <thead>\n",
       "    <tr style=\"text-align: right;\">\n",
       "      <th></th>\n",
       "      <th>0</th>\n",
       "    </tr>\n",
       "    <tr>\n",
       "      <th>platform_name</th>\n",
       "      <th></th>\n",
       "    </tr>\n",
       "  </thead>\n",
       "  <tbody>\n",
       "    <tr>\n",
       "      <th>Windows 10 64 bit</th>\n",
       "      <td>1545</td>\n",
       "    </tr>\n",
       "    <tr>\n",
       "      <th>Windows 7 64 bit</th>\n",
       "      <td>640</td>\n",
       "    </tr>\n",
       "    <tr>\n",
       "      <th>Windows 7</th>\n",
       "      <td>489</td>\n",
       "    </tr>\n",
       "    <tr>\n",
       "      <th>Windows 8.1 64 bit</th>\n",
       "      <td>267</td>\n",
       "    </tr>\n",
       "    <tr>\n",
       "      <th>Windows Server 2016 64 bit</th>\n",
       "      <td>165</td>\n",
       "    </tr>\n",
       "    <tr>\n",
       "      <th>Windows Server 2012 R2 64 bit</th>\n",
       "      <td>122</td>\n",
       "    </tr>\n",
       "    <tr>\n",
       "      <th>Windows 10</th>\n",
       "      <td>78</td>\n",
       "    </tr>\n",
       "    <tr>\n",
       "      <th>Windows Server 2008 R2 64 bit</th>\n",
       "      <td>72</td>\n",
       "    </tr>\n",
       "    <tr>\n",
       "      <th>Windows 8 64 bit</th>\n",
       "      <td>68</td>\n",
       "    </tr>\n",
       "    <tr>\n",
       "      <th>Windows 8.1</th>\n",
       "      <td>58</td>\n",
       "    </tr>\n",
       "    <tr>\n",
       "      <th>Windows 11 64 bit</th>\n",
       "      <td>43</td>\n",
       "    </tr>\n",
       "    <tr>\n",
       "      <th>Windows XP Professional</th>\n",
       "      <td>37</td>\n",
       "    </tr>\n",
       "    <tr>\n",
       "      <th>Windows Server 2012 64 bit</th>\n",
       "      <td>32</td>\n",
       "    </tr>\n",
       "    <tr>\n",
       "      <th>Windows 8</th>\n",
       "      <td>28</td>\n",
       "    </tr>\n",
       "    <tr>\n",
       "      <th>Windows 2003 Enterprise Edition</th>\n",
       "      <td>12</td>\n",
       "    </tr>\n",
       "    <tr>\n",
       "      <th>Windows Server 2019 64 bit</th>\n",
       "      <td>8</td>\n",
       "    </tr>\n",
       "    <tr>\n",
       "      <th>Windows 2003 Standard Edition</th>\n",
       "      <td>4</td>\n",
       "    </tr>\n",
       "    <tr>\n",
       "      <th>Windows Server 2022 64 bit</th>\n",
       "      <td>1</td>\n",
       "    </tr>\n",
       "  </tbody>\n",
       "</table>\n",
       "</div>"
      ],
      "text/plain": [
       "                                    0\n",
       "platform_name                        \n",
       "Windows 10 64 bit                1545\n",
       "Windows 7 64 bit                  640\n",
       "Windows 7                         489\n",
       "Windows 8.1 64 bit                267\n",
       "Windows Server 2016 64 bit        165\n",
       "Windows Server 2012 R2 64 bit     122\n",
       "Windows 10                         78\n",
       "Windows Server 2008 R2 64 bit      72\n",
       "Windows 8 64 bit                   68\n",
       "Windows 8.1                        58\n",
       "Windows 11 64 bit                  43\n",
       "Windows XP Professional            37\n",
       "Windows Server 2012 64 bit         32\n",
       "Windows 8                          28\n",
       "Windows 2003 Enterprise Edition    12\n",
       "Windows Server 2019 64 bit          8\n",
       "Windows 2003 Standard Edition       4\n",
       "Windows Server 2022 64 bit          1"
      ]
     },
     "execution_count": 30,
     "metadata": {},
     "output_type": "execute_result"
    }
   ],
   "source": [
    "df1"
   ]
  },
  {
   "cell_type": "code",
   "execution_count": 38,
   "id": "e3bd942c",
   "metadata": {},
   "outputs": [],
   "source": [
    "df1= df1.reset_index()"
   ]
  },
  {
   "cell_type": "code",
   "execution_count": 39,
   "id": "781cd1de",
   "metadata": {},
   "outputs": [
    {
     "data": {
      "text/html": [
       "<div>\n",
       "<style scoped>\n",
       "    .dataframe tbody tr th:only-of-type {\n",
       "        vertical-align: middle;\n",
       "    }\n",
       "\n",
       "    .dataframe tbody tr th {\n",
       "        vertical-align: top;\n",
       "    }\n",
       "\n",
       "    .dataframe thead th {\n",
       "        text-align: right;\n",
       "    }\n",
       "</style>\n",
       "<table border=\"1\" class=\"dataframe\">\n",
       "  <thead>\n",
       "    <tr style=\"text-align: right;\">\n",
       "      <th></th>\n",
       "      <th>platform_name</th>\n",
       "      <th>0</th>\n",
       "    </tr>\n",
       "  </thead>\n",
       "  <tbody>\n",
       "    <tr>\n",
       "      <th>0</th>\n",
       "      <td>Windows 10 64 bit</td>\n",
       "      <td>1545</td>\n",
       "    </tr>\n",
       "    <tr>\n",
       "      <th>1</th>\n",
       "      <td>Windows 7 64 bit</td>\n",
       "      <td>640</td>\n",
       "    </tr>\n",
       "    <tr>\n",
       "      <th>2</th>\n",
       "      <td>Windows 7</td>\n",
       "      <td>489</td>\n",
       "    </tr>\n",
       "    <tr>\n",
       "      <th>3</th>\n",
       "      <td>Windows 8.1 64 bit</td>\n",
       "      <td>267</td>\n",
       "    </tr>\n",
       "    <tr>\n",
       "      <th>4</th>\n",
       "      <td>Windows Server 2016 64 bit</td>\n",
       "      <td>165</td>\n",
       "    </tr>\n",
       "    <tr>\n",
       "      <th>5</th>\n",
       "      <td>Windows Server 2012 R2 64 bit</td>\n",
       "      <td>122</td>\n",
       "    </tr>\n",
       "    <tr>\n",
       "      <th>6</th>\n",
       "      <td>Windows 10</td>\n",
       "      <td>78</td>\n",
       "    </tr>\n",
       "    <tr>\n",
       "      <th>7</th>\n",
       "      <td>Windows Server 2008 R2 64 bit</td>\n",
       "      <td>72</td>\n",
       "    </tr>\n",
       "    <tr>\n",
       "      <th>8</th>\n",
       "      <td>Windows 8 64 bit</td>\n",
       "      <td>68</td>\n",
       "    </tr>\n",
       "    <tr>\n",
       "      <th>9</th>\n",
       "      <td>Windows 8.1</td>\n",
       "      <td>58</td>\n",
       "    </tr>\n",
       "    <tr>\n",
       "      <th>10</th>\n",
       "      <td>Windows 11 64 bit</td>\n",
       "      <td>43</td>\n",
       "    </tr>\n",
       "    <tr>\n",
       "      <th>11</th>\n",
       "      <td>Windows XP Professional</td>\n",
       "      <td>37</td>\n",
       "    </tr>\n",
       "    <tr>\n",
       "      <th>12</th>\n",
       "      <td>Windows Server 2012 64 bit</td>\n",
       "      <td>32</td>\n",
       "    </tr>\n",
       "    <tr>\n",
       "      <th>13</th>\n",
       "      <td>Windows 8</td>\n",
       "      <td>28</td>\n",
       "    </tr>\n",
       "    <tr>\n",
       "      <th>14</th>\n",
       "      <td>Windows 2003 Enterprise Edition</td>\n",
       "      <td>12</td>\n",
       "    </tr>\n",
       "    <tr>\n",
       "      <th>15</th>\n",
       "      <td>Windows Server 2019 64 bit</td>\n",
       "      <td>8</td>\n",
       "    </tr>\n",
       "    <tr>\n",
       "      <th>16</th>\n",
       "      <td>Windows 2003 Standard Edition</td>\n",
       "      <td>4</td>\n",
       "    </tr>\n",
       "    <tr>\n",
       "      <th>17</th>\n",
       "      <td>Windows Server 2022 64 bit</td>\n",
       "      <td>1</td>\n",
       "    </tr>\n",
       "  </tbody>\n",
       "</table>\n",
       "</div>"
      ],
      "text/plain": [
       "                      platform_name     0\n",
       "0                 Windows 10 64 bit  1545\n",
       "1                  Windows 7 64 bit   640\n",
       "2                         Windows 7   489\n",
       "3                Windows 8.1 64 bit   267\n",
       "4        Windows Server 2016 64 bit   165\n",
       "5     Windows Server 2012 R2 64 bit   122\n",
       "6                        Windows 10    78\n",
       "7     Windows Server 2008 R2 64 bit    72\n",
       "8                  Windows 8 64 bit    68\n",
       "9                       Windows 8.1    58\n",
       "10                Windows 11 64 bit    43\n",
       "11          Windows XP Professional    37\n",
       "12       Windows Server 2012 64 bit    32\n",
       "13                        Windows 8    28\n",
       "14  Windows 2003 Enterprise Edition    12\n",
       "15       Windows Server 2019 64 bit     8\n",
       "16    Windows 2003 Standard Edition     4\n",
       "17       Windows Server 2022 64 bit     1"
      ]
     },
     "execution_count": 39,
     "metadata": {},
     "output_type": "execute_result"
    }
   ],
   "source": [
    "df1"
   ]
  },
  {
   "cell_type": "code",
   "execution_count": 40,
   "id": "155f0585",
   "metadata": {},
   "outputs": [],
   "source": [
    "df1.columns=['platform_name','count']"
   ]
  },
  {
   "cell_type": "code",
   "execution_count": 41,
   "id": "7c347653",
   "metadata": {},
   "outputs": [
    {
     "data": {
      "text/html": [
       "<div>\n",
       "<style scoped>\n",
       "    .dataframe tbody tr th:only-of-type {\n",
       "        vertical-align: middle;\n",
       "    }\n",
       "\n",
       "    .dataframe tbody tr th {\n",
       "        vertical-align: top;\n",
       "    }\n",
       "\n",
       "    .dataframe thead th {\n",
       "        text-align: right;\n",
       "    }\n",
       "</style>\n",
       "<table border=\"1\" class=\"dataframe\">\n",
       "  <thead>\n",
       "    <tr style=\"text-align: right;\">\n",
       "      <th></th>\n",
       "      <th>platform_name</th>\n",
       "      <th>count</th>\n",
       "    </tr>\n",
       "  </thead>\n",
       "  <tbody>\n",
       "    <tr>\n",
       "      <th>0</th>\n",
       "      <td>Windows 10 64 bit</td>\n",
       "      <td>1545</td>\n",
       "    </tr>\n",
       "    <tr>\n",
       "      <th>1</th>\n",
       "      <td>Windows 7 64 bit</td>\n",
       "      <td>640</td>\n",
       "    </tr>\n",
       "    <tr>\n",
       "      <th>2</th>\n",
       "      <td>Windows 7</td>\n",
       "      <td>489</td>\n",
       "    </tr>\n",
       "    <tr>\n",
       "      <th>3</th>\n",
       "      <td>Windows 8.1 64 bit</td>\n",
       "      <td>267</td>\n",
       "    </tr>\n",
       "    <tr>\n",
       "      <th>4</th>\n",
       "      <td>Windows Server 2016 64 bit</td>\n",
       "      <td>165</td>\n",
       "    </tr>\n",
       "    <tr>\n",
       "      <th>5</th>\n",
       "      <td>Windows Server 2012 R2 64 bit</td>\n",
       "      <td>122</td>\n",
       "    </tr>\n",
       "    <tr>\n",
       "      <th>6</th>\n",
       "      <td>Windows 10</td>\n",
       "      <td>78</td>\n",
       "    </tr>\n",
       "    <tr>\n",
       "      <th>7</th>\n",
       "      <td>Windows Server 2008 R2 64 bit</td>\n",
       "      <td>72</td>\n",
       "    </tr>\n",
       "    <tr>\n",
       "      <th>8</th>\n",
       "      <td>Windows 8 64 bit</td>\n",
       "      <td>68</td>\n",
       "    </tr>\n",
       "    <tr>\n",
       "      <th>9</th>\n",
       "      <td>Windows 8.1</td>\n",
       "      <td>58</td>\n",
       "    </tr>\n",
       "    <tr>\n",
       "      <th>10</th>\n",
       "      <td>Windows 11 64 bit</td>\n",
       "      <td>43</td>\n",
       "    </tr>\n",
       "    <tr>\n",
       "      <th>11</th>\n",
       "      <td>Windows XP Professional</td>\n",
       "      <td>37</td>\n",
       "    </tr>\n",
       "    <tr>\n",
       "      <th>12</th>\n",
       "      <td>Windows Server 2012 64 bit</td>\n",
       "      <td>32</td>\n",
       "    </tr>\n",
       "    <tr>\n",
       "      <th>13</th>\n",
       "      <td>Windows 8</td>\n",
       "      <td>28</td>\n",
       "    </tr>\n",
       "    <tr>\n",
       "      <th>14</th>\n",
       "      <td>Windows 2003 Enterprise Edition</td>\n",
       "      <td>12</td>\n",
       "    </tr>\n",
       "    <tr>\n",
       "      <th>15</th>\n",
       "      <td>Windows Server 2019 64 bit</td>\n",
       "      <td>8</td>\n",
       "    </tr>\n",
       "    <tr>\n",
       "      <th>16</th>\n",
       "      <td>Windows 2003 Standard Edition</td>\n",
       "      <td>4</td>\n",
       "    </tr>\n",
       "    <tr>\n",
       "      <th>17</th>\n",
       "      <td>Windows Server 2022 64 bit</td>\n",
       "      <td>1</td>\n",
       "    </tr>\n",
       "  </tbody>\n",
       "</table>\n",
       "</div>"
      ],
      "text/plain": [
       "                      platform_name  count\n",
       "0                 Windows 10 64 bit   1545\n",
       "1                  Windows 7 64 bit    640\n",
       "2                         Windows 7    489\n",
       "3                Windows 8.1 64 bit    267\n",
       "4        Windows Server 2016 64 bit    165\n",
       "5     Windows Server 2012 R2 64 bit    122\n",
       "6                        Windows 10     78\n",
       "7     Windows Server 2008 R2 64 bit     72\n",
       "8                  Windows 8 64 bit     68\n",
       "9                       Windows 8.1     58\n",
       "10                Windows 11 64 bit     43\n",
       "11          Windows XP Professional     37\n",
       "12       Windows Server 2012 64 bit     32\n",
       "13                        Windows 8     28\n",
       "14  Windows 2003 Enterprise Edition     12\n",
       "15       Windows Server 2019 64 bit      8\n",
       "16    Windows 2003 Standard Edition      4\n",
       "17       Windows Server 2022 64 bit      1"
      ]
     },
     "execution_count": 41,
     "metadata": {},
     "output_type": "execute_result"
    }
   ],
   "source": [
    "df1"
   ]
  },
  {
   "cell_type": "code",
   "execution_count": 43,
   "id": "539337d1",
   "metadata": {},
   "outputs": [
    {
     "name": "stdout",
     "output_type": "stream",
     "text": [
      "['Windows 10 64 bit', 'Windows 7 64 bit', 'Windows 7', 'Windows 8.1 64 bit', 'Windows Server 2016 64 bit', 'Windows Server 2012 R2 64 bit', 'Windows 10', 'Windows Server 2008 R2 64 bit', 'Windows 8 64 bit', 'Windows 8.1', 'Windows 11 64 bit', 'Windows XP Professional', 'Windows Server 2012 64 bit', 'Windows 8', 'Windows 2003 Enterprise Edition', 'Windows Server 2019 64 bit', 'Windows 2003 Standard Edition', 'Windows Server 2022 64 bit']\n"
     ]
    }
   ],
   "source": [
    "uniques = df1['platform_name'].to_list()\n",
    "print(uniques)"
   ]
  },
  {
   "cell_type": "code",
   "execution_count": 44,
   "id": "066a4711",
   "metadata": {},
   "outputs": [
    {
     "data": {
      "text/html": [
       "<div>\n",
       "<style scoped>\n",
       "    .dataframe tbody tr th:only-of-type {\n",
       "        vertical-align: middle;\n",
       "    }\n",
       "\n",
       "    .dataframe tbody tr th {\n",
       "        vertical-align: top;\n",
       "    }\n",
       "\n",
       "    .dataframe thead th {\n",
       "        text-align: right;\n",
       "    }\n",
       "</style>\n",
       "<table border=\"1\" class=\"dataframe\">\n",
       "  <thead>\n",
       "    <tr style=\"text-align: right;\">\n",
       "      <th></th>\n",
       "      <th>platform_name</th>\n",
       "      <th>count</th>\n",
       "    </tr>\n",
       "  </thead>\n",
       "  <tbody>\n",
       "    <tr>\n",
       "      <th>0</th>\n",
       "      <td>Windows 10 64 bit</td>\n",
       "      <td>1545</td>\n",
       "    </tr>\n",
       "    <tr>\n",
       "      <th>1</th>\n",
       "      <td>Windows 7 64 bit</td>\n",
       "      <td>640</td>\n",
       "    </tr>\n",
       "    <tr>\n",
       "      <th>2</th>\n",
       "      <td>Windows 7</td>\n",
       "      <td>489</td>\n",
       "    </tr>\n",
       "    <tr>\n",
       "      <th>3</th>\n",
       "      <td>Windows 8.1 64 bit</td>\n",
       "      <td>267</td>\n",
       "    </tr>\n",
       "    <tr>\n",
       "      <th>4</th>\n",
       "      <td>Windows Server 2016 64 bit</td>\n",
       "      <td>165</td>\n",
       "    </tr>\n",
       "  </tbody>\n",
       "</table>\n",
       "</div>"
      ],
      "text/plain": [
       "                platform_name  count\n",
       "0           Windows 10 64 bit   1545\n",
       "1            Windows 7 64 bit    640\n",
       "2                   Windows 7    489\n",
       "3          Windows 8.1 64 bit    267\n",
       "4  Windows Server 2016 64 bit    165"
      ]
     },
     "execution_count": 44,
     "metadata": {},
     "output_type": "execute_result"
    }
   ],
   "source": [
    "df1.head(5)"
   ]
  },
  {
   "cell_type": "code",
   "execution_count": 46,
   "id": "d0c30b2b",
   "metadata": {},
   "outputs": [],
   "source": [
    "df2=df1[5:]"
   ]
  },
  {
   "cell_type": "code",
   "execution_count": 51,
   "id": "acc6ce21",
   "metadata": {},
   "outputs": [
    {
     "data": {
      "text/plain": [
       "5     122\n",
       "6      78\n",
       "7      72\n",
       "8      68\n",
       "9      58\n",
       "10     43\n",
       "11     37\n",
       "12     32\n",
       "13     28\n",
       "14     12\n",
       "15      8\n",
       "16      4\n",
       "17      1\n",
       "Name: count, dtype: int64"
      ]
     },
     "execution_count": 51,
     "metadata": {},
     "output_type": "execute_result"
    }
   ],
   "source": [
    "df2['count']"
   ]
  },
  {
   "cell_type": "code",
   "execution_count": 52,
   "id": "592bf025",
   "metadata": {},
   "outputs": [
    {
     "data": {
      "text/plain": [
       "[122, 78, 72, 68, 58, 43, 37, 32, 28, 12, 8, 4, 1]"
      ]
     },
     "execution_count": 52,
     "metadata": {},
     "output_type": "execute_result"
    }
   ],
   "source": [
    "l1= df2['count'].to_list()\n",
    "l1"
   ]
  },
  {
   "cell_type": "code",
   "execution_count": 54,
   "id": "cde556f4",
   "metadata": {},
   "outputs": [
    {
     "data": {
      "text/plain": [
       "563"
      ]
     },
     "execution_count": 54,
     "metadata": {},
     "output_type": "execute_result"
    }
   ],
   "source": [
    "sum(l1)"
   ]
  },
  {
   "cell_type": "code",
   "execution_count": 57,
   "id": "df1a33c1",
   "metadata": {},
   "outputs": [
    {
     "data": {
      "text/plain": [
       "563"
      ]
     },
     "execution_count": 57,
     "metadata": {},
     "output_type": "execute_result"
    }
   ],
   "source": [
    "others= df2['count'].sum()\n",
    "others"
   ]
  },
  {
   "cell_type": "code",
   "execution_count": 61,
   "id": "6117039e",
   "metadata": {},
   "outputs": [
    {
     "data": {
      "text/plain": [
       "{'platform_name': 'Others', 'count': 563}"
      ]
     },
     "execution_count": 61,
     "metadata": {},
     "output_type": "execute_result"
    }
   ],
   "source": [
    "new_dict = {'platform_name':'Others','count':others}\n",
    "new_dict"
   ]
  },
  {
   "cell_type": "code",
   "execution_count": 68,
   "id": "d2439e3c",
   "metadata": {},
   "outputs": [],
   "source": [
    "new_df=pd.DataFrame(new_dict,index=[0])"
   ]
  },
  {
   "cell_type": "code",
   "execution_count": 63,
   "id": "1fdd003c",
   "metadata": {},
   "outputs": [
    {
     "data": {
      "text/plain": [
       "{'platform_name': 'Others', 'count': 563}"
      ]
     },
     "execution_count": 63,
     "metadata": {},
     "output_type": "execute_result"
    }
   ],
   "source": [
    "new_dict"
   ]
  },
  {
   "cell_type": "code",
   "execution_count": 69,
   "id": "da73c31a",
   "metadata": {},
   "outputs": [
    {
     "data": {
      "text/html": [
       "<div>\n",
       "<style scoped>\n",
       "    .dataframe tbody tr th:only-of-type {\n",
       "        vertical-align: middle;\n",
       "    }\n",
       "\n",
       "    .dataframe tbody tr th {\n",
       "        vertical-align: top;\n",
       "    }\n",
       "\n",
       "    .dataframe thead th {\n",
       "        text-align: right;\n",
       "    }\n",
       "</style>\n",
       "<table border=\"1\" class=\"dataframe\">\n",
       "  <thead>\n",
       "    <tr style=\"text-align: right;\">\n",
       "      <th></th>\n",
       "      <th>platform_name</th>\n",
       "      <th>count</th>\n",
       "    </tr>\n",
       "  </thead>\n",
       "  <tbody>\n",
       "    <tr>\n",
       "      <th>0</th>\n",
       "      <td>Others</td>\n",
       "      <td>563</td>\n",
       "    </tr>\n",
       "  </tbody>\n",
       "</table>\n",
       "</div>"
      ],
      "text/plain": [
       "  platform_name  count\n",
       "0        Others    563"
      ]
     },
     "execution_count": 69,
     "metadata": {},
     "output_type": "execute_result"
    }
   ],
   "source": [
    "new_df"
   ]
  },
  {
   "cell_type": "code",
   "execution_count": 70,
   "id": "b289a8cf",
   "metadata": {},
   "outputs": [],
   "source": [
    "top_df = df1.head()"
   ]
  },
  {
   "cell_type": "code",
   "execution_count": 71,
   "id": "3cd28876",
   "metadata": {},
   "outputs": [
    {
     "data": {
      "text/html": [
       "<div>\n",
       "<style scoped>\n",
       "    .dataframe tbody tr th:only-of-type {\n",
       "        vertical-align: middle;\n",
       "    }\n",
       "\n",
       "    .dataframe tbody tr th {\n",
       "        vertical-align: top;\n",
       "    }\n",
       "\n",
       "    .dataframe thead th {\n",
       "        text-align: right;\n",
       "    }\n",
       "</style>\n",
       "<table border=\"1\" class=\"dataframe\">\n",
       "  <thead>\n",
       "    <tr style=\"text-align: right;\">\n",
       "      <th></th>\n",
       "      <th>platform_name</th>\n",
       "      <th>count</th>\n",
       "    </tr>\n",
       "  </thead>\n",
       "  <tbody>\n",
       "    <tr>\n",
       "      <th>0</th>\n",
       "      <td>Windows 10 64 bit</td>\n",
       "      <td>1545</td>\n",
       "    </tr>\n",
       "    <tr>\n",
       "      <th>1</th>\n",
       "      <td>Windows 7 64 bit</td>\n",
       "      <td>640</td>\n",
       "    </tr>\n",
       "    <tr>\n",
       "      <th>2</th>\n",
       "      <td>Windows 7</td>\n",
       "      <td>489</td>\n",
       "    </tr>\n",
       "    <tr>\n",
       "      <th>3</th>\n",
       "      <td>Windows 8.1 64 bit</td>\n",
       "      <td>267</td>\n",
       "    </tr>\n",
       "    <tr>\n",
       "      <th>4</th>\n",
       "      <td>Windows Server 2016 64 bit</td>\n",
       "      <td>165</td>\n",
       "    </tr>\n",
       "  </tbody>\n",
       "</table>\n",
       "</div>"
      ],
      "text/plain": [
       "                platform_name  count\n",
       "0           Windows 10 64 bit   1545\n",
       "1            Windows 7 64 bit    640\n",
       "2                   Windows 7    489\n",
       "3          Windows 8.1 64 bit    267\n",
       "4  Windows Server 2016 64 bit    165"
      ]
     },
     "execution_count": 71,
     "metadata": {},
     "output_type": "execute_result"
    }
   ],
   "source": [
    "top_df"
   ]
  },
  {
   "cell_type": "code",
   "execution_count": 72,
   "id": "7eb276d8",
   "metadata": {},
   "outputs": [
    {
     "name": "stderr",
     "output_type": "stream",
     "text": [
      "/tmp/ipykernel_12416/587150557.py:1: FutureWarning: The frame.append method is deprecated and will be removed from pandas in a future version. Use pandas.concat instead.\n",
      "  result_df = top_df.append(new_dict,ignore_index= True)\n"
     ]
    },
    {
     "data": {
      "text/html": [
       "<div>\n",
       "<style scoped>\n",
       "    .dataframe tbody tr th:only-of-type {\n",
       "        vertical-align: middle;\n",
       "    }\n",
       "\n",
       "    .dataframe tbody tr th {\n",
       "        vertical-align: top;\n",
       "    }\n",
       "\n",
       "    .dataframe thead th {\n",
       "        text-align: right;\n",
       "    }\n",
       "</style>\n",
       "<table border=\"1\" class=\"dataframe\">\n",
       "  <thead>\n",
       "    <tr style=\"text-align: right;\">\n",
       "      <th></th>\n",
       "      <th>platform_name</th>\n",
       "      <th>count</th>\n",
       "    </tr>\n",
       "  </thead>\n",
       "  <tbody>\n",
       "    <tr>\n",
       "      <th>0</th>\n",
       "      <td>Windows 10 64 bit</td>\n",
       "      <td>1545</td>\n",
       "    </tr>\n",
       "    <tr>\n",
       "      <th>1</th>\n",
       "      <td>Windows 7 64 bit</td>\n",
       "      <td>640</td>\n",
       "    </tr>\n",
       "    <tr>\n",
       "      <th>2</th>\n",
       "      <td>Windows 7</td>\n",
       "      <td>489</td>\n",
       "    </tr>\n",
       "    <tr>\n",
       "      <th>3</th>\n",
       "      <td>Windows 8.1 64 bit</td>\n",
       "      <td>267</td>\n",
       "    </tr>\n",
       "    <tr>\n",
       "      <th>4</th>\n",
       "      <td>Windows Server 2016 64 bit</td>\n",
       "      <td>165</td>\n",
       "    </tr>\n",
       "    <tr>\n",
       "      <th>5</th>\n",
       "      <td>Others</td>\n",
       "      <td>563</td>\n",
       "    </tr>\n",
       "  </tbody>\n",
       "</table>\n",
       "</div>"
      ],
      "text/plain": [
       "                platform_name  count\n",
       "0           Windows 10 64 bit   1545\n",
       "1            Windows 7 64 bit    640\n",
       "2                   Windows 7    489\n",
       "3          Windows 8.1 64 bit    267\n",
       "4  Windows Server 2016 64 bit    165\n",
       "5                      Others    563"
      ]
     },
     "execution_count": 72,
     "metadata": {},
     "output_type": "execute_result"
    }
   ],
   "source": [
    "result_df = top_df.append(new_dict,ignore_index= True)\n",
    "result_df"
   ]
  },
  {
   "cell_type": "code",
   "execution_count": 74,
   "id": "2b73b23a",
   "metadata": {},
   "outputs": [],
   "source": [
    "result_df_1 = pd.concat([top_df,new_df],ignore_index=True)"
   ]
  },
  {
   "cell_type": "code",
   "execution_count": 75,
   "id": "0e4cbcdf",
   "metadata": {},
   "outputs": [
    {
     "data": {
      "text/html": [
       "<div>\n",
       "<style scoped>\n",
       "    .dataframe tbody tr th:only-of-type {\n",
       "        vertical-align: middle;\n",
       "    }\n",
       "\n",
       "    .dataframe tbody tr th {\n",
       "        vertical-align: top;\n",
       "    }\n",
       "\n",
       "    .dataframe thead th {\n",
       "        text-align: right;\n",
       "    }\n",
       "</style>\n",
       "<table border=\"1\" class=\"dataframe\">\n",
       "  <thead>\n",
       "    <tr style=\"text-align: right;\">\n",
       "      <th></th>\n",
       "      <th>platform_name</th>\n",
       "      <th>count</th>\n",
       "    </tr>\n",
       "  </thead>\n",
       "  <tbody>\n",
       "    <tr>\n",
       "      <th>0</th>\n",
       "      <td>Windows 10 64 bit</td>\n",
       "      <td>1545</td>\n",
       "    </tr>\n",
       "    <tr>\n",
       "      <th>1</th>\n",
       "      <td>Windows 7 64 bit</td>\n",
       "      <td>640</td>\n",
       "    </tr>\n",
       "    <tr>\n",
       "      <th>2</th>\n",
       "      <td>Windows 7</td>\n",
       "      <td>489</td>\n",
       "    </tr>\n",
       "    <tr>\n",
       "      <th>3</th>\n",
       "      <td>Windows 8.1 64 bit</td>\n",
       "      <td>267</td>\n",
       "    </tr>\n",
       "    <tr>\n",
       "      <th>4</th>\n",
       "      <td>Windows Server 2016 64 bit</td>\n",
       "      <td>165</td>\n",
       "    </tr>\n",
       "    <tr>\n",
       "      <th>5</th>\n",
       "      <td>Others</td>\n",
       "      <td>563</td>\n",
       "    </tr>\n",
       "  </tbody>\n",
       "</table>\n",
       "</div>"
      ],
      "text/plain": [
       "                platform_name  count\n",
       "0           Windows 10 64 bit   1545\n",
       "1            Windows 7 64 bit    640\n",
       "2                   Windows 7    489\n",
       "3          Windows 8.1 64 bit    267\n",
       "4  Windows Server 2016 64 bit    165\n",
       "5                      Others    563"
      ]
     },
     "execution_count": 75,
     "metadata": {},
     "output_type": "execute_result"
    }
   ],
   "source": [
    "result_df_1"
   ]
  },
  {
   "cell_type": "code",
   "execution_count": 76,
   "id": "6e9a45f1",
   "metadata": {},
   "outputs": [
    {
     "data": {
      "text/plain": [
       "['Windows 10 64 bit',\n",
       " 'Windows 7 64 bit',\n",
       " 'Windows 7',\n",
       " 'Windows 8.1 64 bit',\n",
       " 'Windows Server 2016 64 bit',\n",
       " 'Others']"
      ]
     },
     "execution_count": 76,
     "metadata": {},
     "output_type": "execute_result"
    }
   ],
   "source": [
    "result_df_1['platform_name'].to_list()"
   ]
  },
  {
   "cell_type": "code",
   "execution_count": 77,
   "id": "ee2a572a",
   "metadata": {},
   "outputs": [
    {
     "data": {
      "text/plain": [
       "[1545, 640, 489, 267, 165, 563]"
      ]
     },
     "execution_count": 77,
     "metadata": {},
     "output_type": "execute_result"
    }
   ],
   "source": [
    "result_df_1['count'].to_list()"
   ]
  },
  {
   "cell_type": "code",
   "execution_count": 78,
   "id": "8b06f908",
   "metadata": {},
   "outputs": [],
   "source": [
    "keys = result_df_1['platform_name'].to_list()\n",
    "values = result_df_1['count'].to_list()"
   ]
  },
  {
   "cell_type": "code",
   "execution_count": 79,
   "id": "c9e20a96",
   "metadata": {},
   "outputs": [
    {
     "data": {
      "text/plain": [
       "{'Windows 10 64 bit': 1545,\n",
       " 'Windows 7 64 bit': 640,\n",
       " 'Windows 7': 489,\n",
       " 'Windows 8.1 64 bit': 267,\n",
       " 'Windows Server 2016 64 bit': 165,\n",
       " 'Others': 563}"
      ]
     },
     "execution_count": 79,
     "metadata": {},
     "output_type": "execute_result"
    }
   ],
   "source": [
    "res = dict(zip(keys,values))\n",
    "res"
   ]
  },
  {
   "cell_type": "code",
   "execution_count": 81,
   "id": "f216a521",
   "metadata": {},
   "outputs": [
    {
     "data": {
      "text/plain": [
       "3669"
      ]
     },
     "execution_count": 81,
     "metadata": {},
     "output_type": "execute_result"
    }
   ],
   "source": [
    "total_count = df1['count'].sum()\n",
    "total_count"
   ]
  },
  {
   "cell_type": "code",
   "execution_count": 82,
   "id": "645abba8",
   "metadata": {},
   "outputs": [
    {
     "data": {
      "text/plain": [
       "['Windows 10 64 bit',\n",
       " 'Windows 7 64 bit',\n",
       " 'Windows 7',\n",
       " 'Windows 8.1 64 bit',\n",
       " 'Windows Server 2016 64 bit',\n",
       " 'Windows Server 2012 R2 64 bit',\n",
       " 'Windows 10',\n",
       " 'Windows Server 2008 R2 64 bit',\n",
       " 'Windows 8 64 bit',\n",
       " 'Windows 8.1',\n",
       " 'Windows 11 64 bit',\n",
       " 'Windows XP Professional',\n",
       " 'Windows Server 2012 64 bit',\n",
       " 'Windows 8',\n",
       " 'Windows 2003 Enterprise Edition',\n",
       " 'Windows Server 2019 64 bit',\n",
       " 'Windows 2003 Standard Edition',\n",
       " 'Windows Server 2022 64 bit']"
      ]
     },
     "execution_count": 82,
     "metadata": {},
     "output_type": "execute_result"
    }
   ],
   "source": [
    "uniques"
   ]
  },
  {
   "cell_type": "code",
   "execution_count": null,
   "id": "55e78051",
   "metadata": {},
   "outputs": [],
   "source": []
  },
  {
   "cell_type": "code",
   "execution_count": null,
   "id": "2207bb40",
   "metadata": {},
   "outputs": [],
   "source": []
  },
  {
   "cell_type": "code",
   "execution_count": 3,
   "id": "8f917f2e",
   "metadata": {},
   "outputs": [
    {
     "data": {
      "text/html": [
       "<div>\n",
       "<style scoped>\n",
       "    .dataframe tbody tr th:only-of-type {\n",
       "        vertical-align: middle;\n",
       "    }\n",
       "\n",
       "    .dataframe tbody tr th {\n",
       "        vertical-align: top;\n",
       "    }\n",
       "\n",
       "    .dataframe thead th {\n",
       "        text-align: right;\n",
       "    }\n",
       "</style>\n",
       "<table border=\"1\" class=\"dataframe\">\n",
       "  <thead>\n",
       "    <tr style=\"text-align: right;\">\n",
       "      <th></th>\n",
       "      <th>date</th>\n",
       "      <th>malware_count</th>\n",
       "      <th>pua_count</th>\n",
       "      <th>adware_count</th>\n",
       "      <th>unknown_count</th>\n",
       "      <th>clean_count</th>\n",
       "      <th>total_count</th>\n",
       "    </tr>\n",
       "  </thead>\n",
       "  <tbody>\n",
       "    <tr>\n",
       "      <th>0</th>\n",
       "      <td>2023-05-20</td>\n",
       "      <td>2078</td>\n",
       "      <td>1032</td>\n",
       "      <td>893</td>\n",
       "      <td>28802</td>\n",
       "      <td>156</td>\n",
       "      <td>280838</td>\n",
       "    </tr>\n",
       "    <tr>\n",
       "      <th>1</th>\n",
       "      <td>2023-05-24</td>\n",
       "      <td>2112</td>\n",
       "      <td>932</td>\n",
       "      <td>763</td>\n",
       "      <td>24869</td>\n",
       "      <td>182</td>\n",
       "      <td>296025</td>\n",
       "    </tr>\n",
       "    <tr>\n",
       "      <th>2</th>\n",
       "      <td>2023-05-25</td>\n",
       "      <td>1934</td>\n",
       "      <td>934</td>\n",
       "      <td>837</td>\n",
       "      <td>24604</td>\n",
       "      <td>176</td>\n",
       "      <td>280205</td>\n",
       "    </tr>\n",
       "    <tr>\n",
       "      <th>3</th>\n",
       "      <td>2023-05-26</td>\n",
       "      <td>1834</td>\n",
       "      <td>1134</td>\n",
       "      <td>394</td>\n",
       "      <td>22589</td>\n",
       "      <td>103</td>\n",
       "      <td>290985</td>\n",
       "    </tr>\n",
       "    <tr>\n",
       "      <th>4</th>\n",
       "      <td>2023-05-27</td>\n",
       "      <td>2232</td>\n",
       "      <td>833</td>\n",
       "      <td>563</td>\n",
       "      <td>22656</td>\n",
       "      <td>190</td>\n",
       "      <td>286259</td>\n",
       "    </tr>\n",
       "  </tbody>\n",
       "</table>\n",
       "</div>"
      ],
      "text/plain": [
       "         date  malware_count  pua_count  adware_count  unknown_count  \\\n",
       "0  2023-05-20           2078       1032           893          28802   \n",
       "1  2023-05-24           2112        932           763          24869   \n",
       "2  2023-05-25           1934        934           837          24604   \n",
       "3  2023-05-26           1834       1134           394          22589   \n",
       "4  2023-05-27           2232        833           563          22656   \n",
       "\n",
       "   clean_count  total_count  \n",
       "0          156       280838  \n",
       "1          182       296025  \n",
       "2          176       280205  \n",
       "3          103       290985  \n",
       "4          190       286259  "
      ]
     },
     "execution_count": 3,
     "metadata": {},
     "output_type": "execute_result"
    }
   ],
   "source": [
    "lab_malware_classification"
   ]
  },
  {
   "cell_type": "code",
   "execution_count": 5,
   "id": "39ac70f8",
   "metadata": {},
   "outputs": [
    {
     "data": {
      "text/html": [
       "<div>\n",
       "<style scoped>\n",
       "    .dataframe tbody tr th:only-of-type {\n",
       "        vertical-align: middle;\n",
       "    }\n",
       "\n",
       "    .dataframe tbody tr th {\n",
       "        vertical-align: top;\n",
       "    }\n",
       "\n",
       "    .dataframe thead th {\n",
       "        text-align: right;\n",
       "    }\n",
       "</style>\n",
       "<table border=\"1\" class=\"dataframe\">\n",
       "  <thead>\n",
       "    <tr style=\"text-align: right;\">\n",
       "      <th></th>\n",
       "      <th>date</th>\n",
       "      <th>clean_count</th>\n",
       "    </tr>\n",
       "  </thead>\n",
       "  <tbody>\n",
       "    <tr>\n",
       "      <th>0</th>\n",
       "      <td>2023-05-20</td>\n",
       "      <td>156</td>\n",
       "    </tr>\n",
       "    <tr>\n",
       "      <th>1</th>\n",
       "      <td>2023-05-24</td>\n",
       "      <td>182</td>\n",
       "    </tr>\n",
       "    <tr>\n",
       "      <th>2</th>\n",
       "      <td>2023-05-25</td>\n",
       "      <td>176</td>\n",
       "    </tr>\n",
       "    <tr>\n",
       "      <th>3</th>\n",
       "      <td>2023-05-26</td>\n",
       "      <td>103</td>\n",
       "    </tr>\n",
       "    <tr>\n",
       "      <th>4</th>\n",
       "      <td>2023-05-27</td>\n",
       "      <td>190</td>\n",
       "    </tr>\n",
       "  </tbody>\n",
       "</table>\n",
       "</div>"
      ],
      "text/plain": [
       "         date  clean_count\n",
       "0  2023-05-20          156\n",
       "1  2023-05-24          182\n",
       "2  2023-05-25          176\n",
       "3  2023-05-26          103\n",
       "4  2023-05-27          190"
      ]
     },
     "execution_count": 5,
     "metadata": {},
     "output_type": "execute_result"
    }
   ],
   "source": [
    "lab_malware_classification[['date','clean_count']]"
   ]
  },
  {
   "cell_type": "code",
   "execution_count": 10,
   "id": "841e2997",
   "metadata": {},
   "outputs": [
    {
     "name": "stderr",
     "output_type": "stream",
     "text": [
      "/tmp/ipykernel_19465/387420498.py:1: FutureWarning: Using short name for 'orient' is deprecated. Only the options: ('dict', list, 'series', 'split', 'records', 'index') will be used in a future version. Use one of the above to silence this warning.\n",
      "  clean_file = lab_malware_classification[['date','clean_count']].to_dict(orient='str')\n"
     ]
    },
    {
     "data": {
      "text/plain": [
       "{'date': 0    2023-05-20\n",
       " 1    2023-05-24\n",
       " 2    2023-05-25\n",
       " 3    2023-05-26\n",
       " 4    2023-05-27\n",
       " Name: date, dtype: object,\n",
       " 'clean_count': 0    156\n",
       " 1    182\n",
       " 2    176\n",
       " 3    103\n",
       " 4    190\n",
       " Name: clean_count, dtype: int64}"
      ]
     },
     "execution_count": 10,
     "metadata": {},
     "output_type": "execute_result"
    }
   ],
   "source": [
    "clean_file = lab_malware_classification[['date','clean_count']].to_dict(orient='str')\n",
    "clean_file\n"
   ]
  },
  {
   "cell_type": "code",
   "execution_count": 14,
   "id": "97f89bde",
   "metadata": {},
   "outputs": [
    {
     "data": {
      "text/plain": [
       "{'index': [0, 1, 2, 3, 4],\n",
       " 'columns': ['date', 'clean_count'],\n",
       " 'data': [['2023-05-20', 156],\n",
       "  ['2023-05-24', 182],\n",
       "  ['2023-05-25', 176],\n",
       "  ['2023-05-26', 103],\n",
       "  ['2023-05-27', 190]]}"
      ]
     },
     "execution_count": 14,
     "metadata": {},
     "output_type": "execute_result"
    }
   ],
   "source": [
    "clean_file = lab_malware_classification[['date','clean_count']].to_dict(orient='split')\n",
    "clean_file"
   ]
  },
  {
   "cell_type": "code",
   "execution_count": null,
   "id": "848f34ea",
   "metadata": {},
   "outputs": [],
   "source": []
  }
 ],
 "metadata": {
  "kernelspec": {
   "display_name": "Python 3 (ipykernel)",
   "language": "python",
   "name": "python3"
  },
  "language_info": {
   "codemirror_mode": {
    "name": "ipython",
    "version": 3
   },
   "file_extension": ".py",
   "mimetype": "text/x-python",
   "name": "python",
   "nbconvert_exporter": "python",
   "pygments_lexer": "ipython3",
   "version": "3.9.16"
  },
  "varInspector": {
   "cols": {
    "lenName": 16,
    "lenType": 16,
    "lenVar": 40
   },
   "kernels_config": {
    "python": {
     "delete_cmd_postfix": "",
     "delete_cmd_prefix": "del ",
     "library": "var_list.py",
     "varRefreshCmd": "print(var_dic_list())"
    },
    "r": {
     "delete_cmd_postfix": ") ",
     "delete_cmd_prefix": "rm(",
     "library": "var_list.r",
     "varRefreshCmd": "cat(var_dic_list()) "
    }
   },
   "types_to_exclude": [
    "module",
    "function",
    "builtin_function_or_method",
    "instance",
    "_Feature"
   ],
   "window_display": false
  }
 },
 "nbformat": 4,
 "nbformat_minor": 5
}
