{
 "cells": [
  {
   "cell_type": "markdown",
   "id": "9e7b8bc1",
   "metadata": {
    "deletable": false,
    "editable": false,
    "run_control": {
     "frozen": true
    }
   },
   "source": [
    "# Files by Classification"
   ]
  },
  {
   "cell_type": "code",
   "execution_count": 31,
   "id": "859d7cf2",
   "metadata": {
    "deletable": false,
    "editable": false,
    "run_control": {
     "frozen": true
    }
   },
   "outputs": [],
   "source": [
    "def files_by_classification(dt):\n",
    "    import import_ipynb\n",
    "    import pandas as pd\n",
    "    import command_center_1\n",
    "    while True:\n",
    "        try:\n",
    "                    \n",
    "        \n",
    "    #converting date to date time\n",
    "            dt=str(dt)\n",
    "            command_center_1.lab_malware_classification['date']=pd.to_datetime(command_center_1.lab_malware_classification['date'])\n",
    "    \n",
    "    \n",
    "    #setting date as Index \n",
    "            command_center_1.lab_malware_classification.set_index('date',inplace=True)\n",
    "    \n",
    "    #passing the value\n",
    "            files_by_classification = command_center_1.lab_malware_classification.loc[dt].to_list()\n",
    "    \n",
    "    #getting the columns\n",
    "            files_by_classification_list = command_center_1.lab_malware_classification.columns.to_list()\n",
    "    \n",
    "    #converting to dict\n",
    "            files_by_classification_dict = dict (zip ( files_by_classification_list , files_by_classification ) )\n",
    "            \n",
    "        \n",
    "            return files_by_classification_dict\n",
    "           \n",
    "            \n",
    "            break\n",
    "            \n",
    "        except (KeyError,NameError,KeyboardInterrupt,TypeError,SyntaxError):\n",
    "            print(\"error\")\n",
    "            pass\n",
    "            break\n",
    "        "
   ]
  },
  {
   "cell_type": "code",
   "execution_count": 32,
   "id": "7c1af5f4",
   "metadata": {
    "deletable": false,
    "editable": false,
    "run_control": {
     "frozen": true
    },
    "scrolled": true
   },
   "outputs": [
    {
     "data": {
      "text/plain": [
       "{'malware_count': 2078,\n",
       " 'pua_count': 1032,\n",
       " 'adware_count': 893,\n",
       " 'unknown_count': 28802,\n",
       " 'clean_count': 156,\n",
       " 'total_count': 280838}"
      ]
     },
     "execution_count": 32,
     "metadata": {},
     "output_type": "execute_result"
    }
   ],
   "source": [
    "files_by_classification(\"2023-05-20\")"
   ]
  },
  {
   "cell_type": "markdown",
   "id": "1ca56043",
   "metadata": {},
   "source": [
    "# Detection By Industry"
   ]
  },
  {
   "cell_type": "code",
   "execution_count": 3,
   "id": "6cc8867f",
   "metadata": {
    "deletable": false,
    "editable": false,
    "run_control": {
     "frozen": true
    }
   },
   "outputs": [],
   "source": [
    "def detection_by_industry(dt):\n",
    "    while True:\n",
    "        dt=str(dt)\n",
    "        try:\n",
    "            import import_ipynb\n",
    "            import command_center_1\n",
    "            import pandas as pd\n",
    "            # converting to datetime\n",
    "            command_center_1.city_industry_matrix['date']=pd.to_datetime(command_center_1.city_industry_matrix['date'])\n",
    "            \n",
    "            # setting date as index \n",
    "            command_center_1.city_industry_matrix['date'] = command_center_1.city_industry_matrix.set_index('date',inplace=True)\n",
    "            # get data by date.\n",
    "            df=command_center_1.city_industry_matrix.loc[dt].copy()\n",
    "            #print(df)\n",
    "                       \n",
    "            \n",
    "            \n",
    "            # counting the data\n",
    "            df_group = df.groupby('industry_name')\n",
    "            df_count = df_group['detection_count'].sum()\n",
    "            \n",
    "#             print(df_group)\n",
    "#             print(df_count)\n",
    "            \n",
    "            df1 = df_group.any()\n",
    "            #print(df1)\n",
    "            df1_list=df1.index.to_list()\n",
    "            df_count_list = df_count.to_list()\n",
    "            result = dict(zip(df1_list,df_count_list))\n",
    "            \n",
    "            return result\n",
    "            break\n",
    "            \n",
    "        except (KeyError,NameError,KeyboardInterrupt,TypeError,SyntaxError):\n",
    "            print(\"error\")\n",
    "            pass\n",
    "            break\n",
    "            "
   ]
  },
  {
   "cell_type": "code",
   "execution_count": 4,
   "id": "24069757",
   "metadata": {
    "deletable": false,
    "editable": false,
    "run_control": {
     "frozen": true
    },
    "scrolled": false
   },
   "outputs": [
    {
     "data": {
      "text/plain": [
       "{'Automobiles': 968,\n",
       " 'BFSI': 113,\n",
       " 'Education': 3927,\n",
       " 'Government': 2502,\n",
       " 'Hospitality & Healthcare': 2804,\n",
       " 'IT/ITES': 1514,\n",
       " 'Logistic': 42,\n",
       " 'Manufacturing': 8891,\n",
       " 'Media & Entertainment': 290,\n",
       " 'Power & Energy': 48,\n",
       " 'Professional Services': 7680,\n",
       " 'Strategic & Public Enterprises': 230,\n",
       " 'Telecom': 2,\n",
       " 'Transport': 4}"
      ]
     },
     "execution_count": 4,
     "metadata": {},
     "output_type": "execute_result"
    }
   ],
   "source": [
    "detection_by_industry(\"2023-04-23\")"
   ]
  },
  {
   "cell_type": "markdown",
   "id": "96fb56e4",
   "metadata": {
    "deletable": false,
    "editable": false,
    "run_control": {
     "frozen": true
    }
   },
   "source": [
    "# Top threats in tree map"
   ]
  },
  {
   "cell_type": "code",
   "execution_count": 29,
   "id": "2cca0ef4",
   "metadata": {
    "deletable": false,
    "editable": false,
    "run_control": {
     "frozen": true
    }
   },
   "outputs": [],
   "source": [
    "def threats_tree_map():\n",
    "    import import_ipynb\n",
    "    import command_center_1\n",
    "    import pandas as pd\n",
    "    import matplotlib as plt\n",
    "    import seaborn as sns\n",
    "    import squarify\n",
    "    while True:\n",
    "        try:\n",
    "            threats= command_center_1.top_detections_daily[['top_threats','top_threat_counts']].copy()\n",
    "            sns.set_style(style=\"whitegrid\") # set seaborn plot style\n",
    "            sizes= threats[\"top_threat_counts\"].values# proportions of the categories\n",
    "            label=threats[\"top_threats\"]\n",
    "            squarify.plot(sizes=sizes, label=label, alpha=0.5).set(title='Top Threats')\n",
    "            plt.axis('off')\n",
    "            plt.show()\n",
    "            break\n",
    "            \n",
    "        except (KeyError,NameError,KeyboardInterrupt,TypeError,SyntaxError):\n",
    "            print(\"error\")\n",
    "            pass\n",
    "            break\n",
    "            "
   ]
  },
  {
   "cell_type": "code",
   "execution_count": 30,
   "id": "c95b9053",
   "metadata": {},
   "outputs": [
    {
     "name": "stdout",
     "output_type": "stream",
     "text": [
      "error\n"
     ]
    },
    {
     "data": {
      "image/png": "[encoded data removed]",
      "text/plain": [
       "<Figure size 640x480 with 1 Axes>"
      ]
     },
     "metadata": {},
     "output_type": "display_data"
    }
   ],
   "source": [
    "threats_tree_map()"
   ]
  },
  {
   "cell_type": "markdown",
   "id": "09b65168",
   "metadata": {
    "deletable": false,
    "editable": false,
    "run_control": {
     "frozen": true
    }
   },
   "source": [
    "# Url By Classification"
   ]
  },
  {
   "cell_type": "code",
   "execution_count": 7,
   "id": "7cc36275",
   "metadata": {
    "deletable": false,
    "editable": false,
    "run_control": {
     "frozen": true
    }
   },
   "outputs": [],
   "source": [
    "def url_by_classification(dt):\n",
    "    import import_ipynb\n",
    "    import command_center_1\n",
    "    import pandas as pd\n",
    "    while True:\n",
    "        try:\n",
    "            command_center_1.url_classification_count['date'] = pd.to_datetime(command_center_1.url_classification_count['date'])\n",
    "            command_center_1.url_classification_count.set_index('date',inplace=True)\n",
    "            \n",
    "            values = command_center_1.url_classification_count.loc[dt].to_list()\n",
    "            keys = command_center_1.url_classification_count.columns.to_list()\n",
    "            \n",
    "            result = dict(zip(keys,values))\n",
    "            \n",
    "            return result\n",
    "            break\n",
    "            \n",
    "        except (KeyError,NameError,KeyboardInterrupt,TypeError,SyntaxError):\n",
    "            print(\"error\")\n",
    "            pass\n",
    "            break"
   ]
  },
  {
   "cell_type": "code",
   "execution_count": 8,
   "id": "cafd7dc8",
   "metadata": {
    "deletable": false,
    "editable": false,
    "run_control": {
     "frozen": true
    }
   },
   "outputs": [
    {
     "data": {
      "text/plain": [
       "{'malicious_count': 174240,\n",
       " 'phishing_count': 176,\n",
       " 'clean_count': 406,\n",
       " 'unknown_count': 5303}"
      ]
     },
     "execution_count": 8,
     "metadata": {},
     "output_type": "execute_result"
    }
   ],
   "source": [
    "url_by_classification('2023-05-25')"
   ]
  },
  {
   "cell_type": "markdown",
   "id": "3f4d03de",
   "metadata": {
    "deletable": false,
    "editable": false,
    "run_control": {
     "frozen": true
    }
   },
   "source": [
    "# OS Wise Endpoints Protected"
   ]
  },
  {
   "cell_type": "code",
   "execution_count": 9,
   "id": "9a990d79",
   "metadata": {
    "deletable": false,
    "editable": false,
    "run_control": {
     "frozen": true
    }
   },
   "outputs": [],
   "source": [
    "def os_endpoints_protected():\n",
    "    import import_ipynb\n",
    "    import command_center_1\n",
    "    import pandas as pd\n",
    "    while True:\n",
    "        try:\n",
    "            df = command_center_1.platform_detection_matrix[['platform_name'\n",
    "                                                             ]].copy()\n",
    "            df1 = df.value_counts()\n",
    "            df1 = pd.DataFrame(df1)\n",
    "            df1 = df1.reset_index()\n",
    "            df1.columns = ['platform_name', 'count']\n",
    "            uniques = df1['platform_name'].to_list()\n",
    "            uniques_dict = {'Unique OS': uniques}\n",
    "            top_df1 = df1.head()\n",
    "            others_df1 = df1[5:]\n",
    "            others_sum = others_df1['count'].sum()\n",
    "            new_dict = {'platform_name': 'Others', 'count': others_sum}\n",
    "            new_dict_df = pd.DataFrame(new_dict, index=[0])\n",
    "            result_df = pd.concat([top_df1, new_dict_df], ignore_index=True)\n",
    "            keys = result_df['platform_name'].to_list()\n",
    "            values = result_df['count'].to_list()\n",
    "            result_dict = dict(zip(keys, values))\n",
    "            return result_dict, uniques_dict\n",
    "            break\n",
    "        except (KeyError, NameError, KeyboardInterrupt, TypeError,\n",
    "                SyntaxError):\n",
    "            print(\"error\")\n",
    "            pass\n",
    "            break"
   ]
  },
  {
   "cell_type": "code",
   "execution_count": 10,
   "id": "b580f0aa",
   "metadata": {
    "deletable": false,
    "editable": false,
    "run_control": {
     "frozen": true
    }
   },
   "outputs": [
    {
     "data": {
      "text/plain": [
       "({'Windows 10 64 bit': 1545,\n",
       "  'Windows 7 64 bit': 640,\n",
       "  'Windows 7': 489,\n",
       "  'Windows 8.1 64 bit': 267,\n",
       "  'Windows Server 2016 64 bit': 165,\n",
       "  'Others': 563},\n",
       " {'Unique OS': ['Windows 10 64 bit',\n",
       "   'Windows 7 64 bit',\n",
       "   'Windows 7',\n",
       "   'Windows 8.1 64 bit',\n",
       "   'Windows Server 2016 64 bit',\n",
       "   'Windows Server 2012 R2 64 bit',\n",
       "   'Windows 10',\n",
       "   'Windows Server 2008 R2 64 bit',\n",
       "   'Windows 8 64 bit',\n",
       "   'Windows 8.1',\n",
       "   'Windows 11 64 bit',\n",
       "   'Windows XP Professional',\n",
       "   'Windows Server 2012 64 bit',\n",
       "   'Windows 8',\n",
       "   'Windows 2003 Enterprise Edition',\n",
       "   'Windows Server 2019 64 bit',\n",
       "   'Windows 2003 Standard Edition',\n",
       "   'Windows Server 2022 64 bit']})"
      ]
     },
     "execution_count": 10,
     "metadata": {},
     "output_type": "execute_result"
    }
   ],
   "source": [
    "os_endpoints_protected()"
   ]
  },
  {
   "cell_type": "markdown",
   "id": "9af2636f",
   "metadata": {},
   "source": [
    "# Clean File in Lab"
   ]
  },
  {
   "cell_type": "code",
   "execution_count": 3,
   "id": "059e38ca",
   "metadata": {
    "deletable": false,
    "editable": false,
    "run_control": {
     "frozen": true
    }
   },
   "outputs": [],
   "source": [
    "def clean_file_lab(num):\n",
    "    import import_ipynb\n",
    "    import command_center_1\n",
    "    while True:\n",
    "        try:\n",
    "            if bool(num):\n",
    "                result = command_center_1.lab_malware_classification[['date','clean_count']].head(num).to_dict(orient='index')\n",
    "                return result\n",
    "            else:\n",
    "     \n",
    "                result = command_center_1.lab_malware_classification[['date','clean_count']].to_dict(orient='index')\n",
    "                return result\n",
    "            break\n",
    "            \n",
    "        except (KeyError, NameError, KeyboardInterrupt, TypeError,SyntaxError):\n",
    "            \n",
    "            print(\"error\")\n",
    "            pass\n",
    "            break"
   ]
  },
  {
   "cell_type": "code",
   "execution_count": 10,
   "id": "3e930df6",
   "metadata": {
    "deletable": false,
    "editable": false,
    "run_control": {
     "frozen": true
    }
   },
   "outputs": [
    {
     "data": {
      "text/plain": [
       "{0: {'date': '2023-05-20', 'clean_count': 156},\n",
       " 1: {'date': '2023-05-24', 'clean_count': 182}}"
      ]
     },
     "execution_count": 10,
     "metadata": {},
     "output_type": "execute_result"
    }
   ],
   "source": [
    "clean_file_lab(2)"
   ]
  },
  {
   "cell_type": "code",
   "execution_count": 11,
   "id": "165c2911",
   "metadata": {
    "deletable": false,
    "editable": false,
    "run_control": {
     "frozen": true
    }
   },
   "outputs": [
    {
     "data": {
      "text/plain": [
       "{0: {'date': '2023-05-20', 'clean_count': 156},\n",
       " 1: {'date': '2023-05-24', 'clean_count': 182},\n",
       " 2: {'date': '2023-05-25', 'clean_count': 176},\n",
       " 3: {'date': '2023-05-26', 'clean_count': 103},\n",
       " 4: {'date': '2023-05-27', 'clean_count': 190}}"
      ]
     },
     "execution_count": 11,
     "metadata": {},
     "output_type": "execute_result"
    }
   ],
   "source": [
    "clean_file_lab(0)"
   ]
  },
  {
   "cell_type": "code",
   "execution_count": 6,
   "id": "9557e38c",
   "metadata": {
    "deletable": false,
    "editable": false,
    "run_control": {
     "frozen": true
    }
   },
   "outputs": [
    {
     "data": {
      "text/plain": [
       "{0: {'date': '2023-05-20', 'clean_count': 156},\n",
       " 1: {'date': '2023-05-24', 'clean_count': 182},\n",
       " 2: {'date': '2023-05-25', 'clean_count': 176},\n",
       " 3: {'date': '2023-05-26', 'clean_count': 103},\n",
       " 4: {'date': '2023-05-27', 'clean_count': 190}}"
      ]
     },
     "execution_count": 6,
     "metadata": {},
     "output_type": "execute_result"
    }
   ],
   "source": [
    "clean_file_lab(10)"
   ]
  },
  {
   "cell_type": "markdown",
   "id": "14ba6f92",
   "metadata": {},
   "source": [
    "# ARW Detection"
   ]
  },
  {
   "cell_type": "code",
   "execution_count": 13,
   "id": "dcc225ba",
   "metadata": {
    "deletable": false,
    "editable": false,
    "run_control": {
     "frozen": true
    }
   },
   "outputs": [],
   "source": [
    "def arw_detection():\n",
    "    import import_ipynb\n",
    "    import command_center_1\n",
    "    import pandas as pd\n",
    "    while True:\n",
    "        try:\n",
    "            df = command_center_1.daily_detection_count[['date','total_arw_count','uniq_arw_count']].copy()\n",
    "            \n",
    "            df_dict = df.to_dict(orient='records')\n",
    "            \n",
    "            return df_dict\n",
    "            break\n",
    "        except (KeyError, NameError, KeyboardInterrupt, TypeError,\n",
    "                SyntaxError):\n",
    "            print(\"error\")\n",
    "            pass\n",
    "            break"
   ]
  },
  {
   "cell_type": "code",
   "execution_count": 14,
   "id": "ba89bf15",
   "metadata": {
    "deletable": false,
    "editable": false,
    "run_control": {
     "frozen": true
    }
   },
   "outputs": [
    {
     "data": {
      "text/plain": [
       "[{'date': '2023-05-20', 'total_arw_count': 2453, 'uniq_arw_count': 987},\n",
       " {'date': '2023-05-21', 'total_arw_count': 2216, 'uniq_arw_count': 944},\n",
       " {'date': '2023-05-22', 'total_arw_count': 3162, 'uniq_arw_count': 536},\n",
       " {'date': '2023-05-23', 'total_arw_count': 3542, 'uniq_arw_count': 578},\n",
       " {'date': '2023-05-24', 'total_arw_count': 2636, 'uniq_arw_count': 745},\n",
       " {'date': '2023-05-25', 'total_arw_count': 3957, 'uniq_arw_count': 545},\n",
       " {'date': '2023-05-26', 'total_arw_count': 2442, 'uniq_arw_count': 641},\n",
       " {'date': '2023-05-27', 'total_arw_count': 3824, 'uniq_arw_count': 743},\n",
       " {'date': '2023-05-28', 'total_arw_count': 2592, 'uniq_arw_count': 825},\n",
       " {'date': '2023-05-29', 'total_arw_count': 3561, 'uniq_arw_count': 1000},\n",
       " {'date': '2023-05-30', 'total_arw_count': 3383, 'uniq_arw_count': 783}]"
      ]
     },
     "execution_count": 14,
     "metadata": {},
     "output_type": "execute_result"
    }
   ],
   "source": [
    "arw_detection()"
   ]
  },
  {
   "cell_type": "markdown",
   "id": "12870b81",
   "metadata": {},
   "source": [
    "# Threats Detected"
   ]
  },
  {
   "cell_type": "code",
   "execution_count": 33,
   "id": "7ce482a7",
   "metadata": {
    "deletable": false,
    "editable": false,
    "run_control": {
     "frozen": true
    }
   },
   "outputs": [],
   "source": [
    "def threats_detected():\n",
    "    import import_ipynb\n",
    "    import command_center_1\n",
    "    while True:\n",
    "        try:\n",
    "            total_count = command_center_1.daily_detection_count[['date','total_engine_count','total_ngav_count','total_arw_count','total_web_security_count']].copy()\n",
    "            unique_count = command_center_1.daily_detection_count[['date','uniq_engine_count','uniq_ngav_count','uniq_arw_count','uniq_web_security_count']].copy()\n",
    "            total_count_dict =total_count.to_dict(orient = 'index')\n",
    "            unique_count_dict = unique_count.to_dict(orient= 'index')\n",
    "            return total_count_dict,unique_count_dict\n",
    "            break\n",
    "        \n",
    "            \n",
    "        except (KeyError, NameError, KeyboardInterrupt, TypeError,\n",
    "                SyntaxError):\n",
    "            print(\"error\")\n",
    "            pass\n",
    "            break"
   ]
  },
  {
   "cell_type": "code",
   "execution_count": 34,
   "id": "c666b6c7",
   "metadata": {
    "deletable": false,
    "editable": false,
    "run_control": {
     "frozen": true
    }
   },
   "outputs": [
    {
     "data": {
      "text/plain": [
       "({0: {'date': '2023-05-20',\n",
       "   'total_engine_count': 1083428,\n",
       "   'total_ngav_count': 39262933,\n",
       "   'total_arw_count': 2453,\n",
       "   'total_web_security_count': 6173057},\n",
       "  1: {'date': '2023-05-21',\n",
       "   'total_engine_count': 1173610,\n",
       "   'total_ngav_count': 38282863,\n",
       "   'total_arw_count': 2216,\n",
       "   'total_web_security_count': 6791874},\n",
       "  2: {'date': '2023-05-22',\n",
       "   'total_engine_count': 1072543,\n",
       "   'total_ngav_count': 36513709,\n",
       "   'total_arw_count': 3162,\n",
       "   'total_web_security_count': 6364705},\n",
       "  3: {'date': '2023-05-23',\n",
       "   'total_engine_count': 1126055,\n",
       "   'total_ngav_count': 38904134,\n",
       "   'total_arw_count': 3542,\n",
       "   'total_web_security_count': 6113541},\n",
       "  4: {'date': '2023-05-24',\n",
       "   'total_engine_count': 1200681,\n",
       "   'total_ngav_count': 36832411,\n",
       "   'total_arw_count': 2636,\n",
       "   'total_web_security_count': 7015577},\n",
       "  5: {'date': '2023-05-25',\n",
       "   'total_engine_count': 1162545,\n",
       "   'total_ngav_count': 35618433,\n",
       "   'total_arw_count': 3957,\n",
       "   'total_web_security_count': 6990095},\n",
       "  6: {'date': '2023-05-26',\n",
       "   'total_engine_count': 1163549,\n",
       "   'total_ngav_count': 40120498,\n",
       "   'total_arw_count': 2442,\n",
       "   'total_web_security_count': 6194664},\n",
       "  7: {'date': '2023-05-27',\n",
       "   'total_engine_count': 1124989,\n",
       "   'total_ngav_count': 36886321,\n",
       "   'total_arw_count': 3824,\n",
       "   'total_web_security_count': 6099566},\n",
       "  8: {'date': '2023-05-28',\n",
       "   'total_engine_count': 1190326,\n",
       "   'total_ngav_count': 35620333,\n",
       "   'total_arw_count': 2592,\n",
       "   'total_web_security_count': 6652275},\n",
       "  9: {'date': '2023-05-29',\n",
       "   'total_engine_count': 1196741,\n",
       "   'total_ngav_count': 37316315,\n",
       "   'total_arw_count': 3561,\n",
       "   'total_web_security_count': 6379671},\n",
       "  10: {'date': '2023-05-30',\n",
       "   'total_engine_count': 1202747,\n",
       "   'total_ngav_count': 39285786,\n",
       "   'total_arw_count': 3383,\n",
       "   'total_web_security_count': 7323516}},\n",
       " {0: {'date': '2023-05-20',\n",
       "   'uniq_engine_count': 514454,\n",
       "   'uniq_ngav_count': 419177,\n",
       "   'uniq_arw_count': 987,\n",
       "   'uniq_web_security_count': 246},\n",
       "  1: {'date': '2023-05-21',\n",
       "   'uniq_engine_count': 527164,\n",
       "   'uniq_ngav_count': 438973,\n",
       "   'uniq_arw_count': 944,\n",
       "   'uniq_web_security_count': 791},\n",
       "  2: {'date': '2023-05-22',\n",
       "   'uniq_engine_count': 529800,\n",
       "   'uniq_ngav_count': 414942,\n",
       "   'uniq_arw_count': 536,\n",
       "   'uniq_web_security_count': 529},\n",
       "  3: {'date': '2023-05-23',\n",
       "   'uniq_engine_count': 536998,\n",
       "   'uniq_ngav_count': 363737,\n",
       "   'uniq_arw_count': 578,\n",
       "   'uniq_web_security_count': 718},\n",
       "  4: {'date': '2023-05-24',\n",
       "   'uniq_engine_count': 534927,\n",
       "   'uniq_ngav_count': 432115,\n",
       "   'uniq_arw_count': 745,\n",
       "   'uniq_web_security_count': 627},\n",
       "  5: {'date': '2023-05-25',\n",
       "   'uniq_engine_count': 517483,\n",
       "   'uniq_ngav_count': 389282,\n",
       "   'uniq_arw_count': 545,\n",
       "   'uniq_web_security_count': 645},\n",
       "  6: {'date': '2023-05-26',\n",
       "   'uniq_engine_count': 521344,\n",
       "   'uniq_ngav_count': 365305,\n",
       "   'uniq_arw_count': 641,\n",
       "   'uniq_web_security_count': 411},\n",
       "  7: {'date': '2023-05-27',\n",
       "   'uniq_engine_count': 527912,\n",
       "   'uniq_ngav_count': 398767,\n",
       "   'uniq_arw_count': 743,\n",
       "   'uniq_web_security_count': 347},\n",
       "  8: {'date': '2023-05-28',\n",
       "   'uniq_engine_count': 530197,\n",
       "   'uniq_ngav_count': 411930,\n",
       "   'uniq_arw_count': 825,\n",
       "   'uniq_web_security_count': 775},\n",
       "  9: {'date': '2023-05-29',\n",
       "   'uniq_engine_count': 524344,\n",
       "   'uniq_ngav_count': 367316,\n",
       "   'uniq_arw_count': 1000,\n",
       "   'uniq_web_security_count': 728},\n",
       "  10: {'date': '2023-05-30',\n",
       "   'uniq_engine_count': 531506,\n",
       "   'uniq_ngav_count': 393045,\n",
       "   'uniq_arw_count': 783,\n",
       "   'uniq_web_security_count': 212}})"
      ]
     },
     "execution_count": 34,
     "metadata": {},
     "output_type": "execute_result"
    }
   ],
   "source": [
    "threats_detected()"
   ]
  },
  {
   "cell_type": "code",
   "execution_count": null,
   "id": "16cae213",
   "metadata": {},
   "outputs": [],
   "source": []
  }
 ],
 "metadata": {
  "kernelspec": {
   "display_name": "Python 3 (ipykernel)",
   "language": "python",
   "name": "python3"
  },
  "language_info": {
   "codemirror_mode": {
    "name": "ipython",
    "version": 3
   },
   "file_extension": ".py",
   "mimetype": "text/x-python",
   "name": "python",
   "nbconvert_exporter": "python",
   "pygments_lexer": "ipython3",
   "version": "3.9.16"
  },
  "varInspector": {
   "cols": {
    "lenName": 16,
    "lenType": 16,
    "lenVar": 40
   },
   "kernels_config": {
    "python": {
     "delete_cmd_postfix": "",
     "delete_cmd_prefix": "del ",
     "library": "var_list.py",
     "varRefreshCmd": "print(var_dic_list())"
    },
    "r": {
     "delete_cmd_postfix": ") ",
     "delete_cmd_prefix": "rm(",
     "library": "var_list.r",
     "varRefreshCmd": "cat(var_dic_list()) "
    }
   },
   "types_to_exclude": [
    "module",
    "function",
    "builtin_function_or_method",
    "instance",
    "_Feature"
   ],
   "window_display": false
  }
 },
 "nbformat": 4,
 "nbformat_minor": 5
}
