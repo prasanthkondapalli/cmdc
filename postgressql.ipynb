{
 "cells": [
  {
   "cell_type": "code",
   "execution_count": 1,
   "id": "fea63bf3",
   "metadata": {},
   "outputs": [],
   "source": [
    "import pandas as pd\n",
    "import pandas.io.sql as sql\n",
    "import psycopg2 as ps\n"
   ]
  },
  {
   "cell_type": "code",
   "execution_count": 3,
   "id": "b65895e1",
   "metadata": {},
   "outputs": [],
   "source": [
    "connection = ps.connect(dbname = \"postgres\",\n",
    "                        user = 'postgres',\n",
    "                        password = \"thrymr@123\",\n",
    "                        host='localhost',\n",
    "                        port = '5432')"
   ]
  },
  {
   "cell_type": "code",
   "execution_count": 5,
   "id": "2f69c6fe",
   "metadata": {},
   "outputs": [],
   "source": [
    "create_table = '''select * from emp; '''"
   ]
  },
  {
   "cell_type": "code",
   "execution_count": null,
   "id": "4edd8b84",
   "metadata": {},
   "outputs": [],
   "source": [
    "df = sql.read_sql_query(create_table,)"
   ]
  }
 ],
 "metadata": {
  "kernelspec": {
   "display_name": "Python 3 (ipykernel)",
   "language": "python",
   "name": "python3"
  },
  "language_info": {
   "codemirror_mode": {
    "name": "ipython",
    "version": 3
   },
   "file_extension": ".py",
   "mimetype": "text/x-python",
   "name": "python",
   "nbconvert_exporter": "python",
   "pygments_lexer": "ipython3",
   "version": "3.10.9"
  }
 },
 "nbformat": 4,
 "nbformat_minor": 5
}
